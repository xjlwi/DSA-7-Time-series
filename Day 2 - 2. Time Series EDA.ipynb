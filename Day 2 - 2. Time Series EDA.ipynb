{
 "metadata": {
  "language_info": {
   "codemirror_mode": {
    "name": "ipython",
    "version": 3
   },
   "file_extension": ".py",
   "mimetype": "text/x-python",
   "name": "python",
   "nbconvert_exporter": "python",
   "pygments_lexer": "ipython3",
   "version": "3.7.9-final"
  },
  "orig_nbformat": 2,
  "kernelspec": {
   "name": "python3",
   "display_name": "Python 3.7.9 64-bit ('env01': conda)",
   "metadata": {
    "interpreter": {
     "hash": "c664dd3dfd0443172333d91ad28e36a5da0aac789b86e21c590d0fec45d79915"
    }
   }
  }
 },
 "nbformat": 4,
 "nbformat_minor": 2,
 "cells": [
  {
   "cell_type": "code",
   "execution_count": null,
   "metadata": {},
   "outputs": [],
   "source": [
    "# Styling notebook\n",
    "from IPython.core.display import HTML\n",
    "def css_styling():\n",
    "    styles = open(\"../src/rise.css\", \"r\").read()\n",
    "    return HTML(styles)\n",
    "css_styling()"
   ]
  },
  {
   "source": [
    "# INTRODUCTION\n",
    "<a href=\"http://ibb.co/hxXdKx\"><img src=\"http://preview.ibb.co/cgA9Rc/ww2.png\" alt=\"ww2\" border=\"0\" height = 180></a>"
   ],
   "cell_type": "markdown",
   "metadata": {}
  },
  {
   "cell_type": "code",
   "execution_count": null,
   "metadata": {},
   "outputs": [],
   "source": [
    "import numpy as np # linear algebra\n",
    "import pandas as pd # data processing, CSV file I/O (e.g. pd.read_csv)\n",
    "import seaborn as sns # visualization library\n",
    "import matplotlib.pyplot as plt # visualization library\n",
    "import plotly.graph_objs as go # plotly graphical object\n",
    "\n",
    "# Input data files are available in the \"../input/\" directory.\n",
    "# For example, running this (by clicking run or pressing Shift+Enter) will list the files in the input directory\n",
    "import os\n",
    "print(os.listdir(\"../input\"))\n",
    "# import warnings library\n",
    "import warnings        \n",
    "# ignore filters\n",
    "warnings.filterwarnings(\"ignore\") # if there is a warning after some codes, this will avoid us to see them.\n",
    "plt.style.use('ggplot') # style of plots. ggplot is one of the most used style, I also like it."
   ]
  },
  {
   "source": [
    "* We use 3 data sources.\n",
    "    * Aerial Bombing Operations in WW2\n",
    "        * Shortly, this data includes bombing operations. For example, USA who use ponte olivo airfield bomb Germany (Berlin) with A36 air craft in 1945.\n",
    "    * Wether Conditions in WW2\n",
    "        * Shortly, weather conditions during ww2. For example, according to george town weather station, average temperature is 23.88 in 1/7/1942. \n",
    "        * This data set has 2 subset in it. First one includes weather station locations like country, latitude and longitude.\n",
    "        * Second one includes measured min, max and mean temperatures from weather stations."
   ],
   "cell_type": "markdown",
   "metadata": {}
  },
  {
   "cell_type": "code",
   "execution_count": null,
   "metadata": {},
   "outputs": [],
   "source": [
    "# Load the data here\n",
    "aerial = pd.read_csv(\"../input/operations/operations.csv\")\n",
    "# Let's look at the data.\n",
    "aerial.head()\n",
    "\n",
    "# first weather data that includes locations like country, latitude and longitude.\n",
    "weather_station_location = pd.read_csv(\"../input/Weather Station Locations.csv\")\n",
    "weather_station_location = weather_station_location.loc[:,[\"WBAN\",\"NAME\",\"STATE/COUNTRY ID\",\"Latitude\",\"Longitude\"] ]\n",
    "\n",
    "# Second weather data that includes measured min, max and mean temperatures\n",
    "weather = pd.read_csv(\"../input/Summary of Weather/Summary of Weather.csv\")"
   ]
  },
  {
   "source": [
    "Create a new column called year by getting the year of attack from the \"Mission Date\" column. Filter only after year 1943.\n",
    "\n",
    "<p> Create a new dataframe alled `aerial_war` and filter the Country as 'USA', Target Country as \"BURMA\" and Target City as \"KATHA\". </p>"
   ],
   "cell_type": "markdown",
   "metadata": {}
  },
  {
   "cell_type": "code",
   "execution_count": null,
   "metadata": {},
   "outputs": [],
   "source": [
    "aerial[\"year\"] = [ each.split(\"/\")[2] for each in aerial[\"Mission Date\"]]\n",
    "aerial[\"month\"] = [ each.split(\"/\")[0] for each in aerial[\"Mission Date\"]]\n",
    "aerial = aerial[aerial[\"year\"]>=\"1943\"]\n",
    "aerial = aerial[aerial[\"month\"]>=\"8\"]\n",
    "\n",
    "aerial[\"Mission Date\"] = pd.to_datetime(aerial[\"Mission Date\"])\n",
    "\n",
    "attack = \"USA\"\n",
    "target = \"BURMA\"\n",
    "city = \"KATHA\"\n",
    "\n",
    "## Filter Country, Target Country and Target City here. \n",
    "aerial_war = aerial[aerial.Country == attack]\n",
    "aerial_war = aerial_war[aerial_war[\"Target Country\"] == target]\n",
    "aerial_war = aerial_war[aerial_war[\"Target City\"] == city]"
   ]
  },
  {
   "source": [
    "* Lets focus **USA and BURMA war**\n",
    "* In this war USA bomb BURMA( KATHA city) from 1942 to 1945.\n",
    "* The closest weather station to this war is **BINDUKURI** and it has temperature record from 1943 to 1945.\n",
    "* Now lets visualize this situation. But before visualization, we need to make date features date time object."
   ],
   "cell_type": "markdown",
   "metadata": {}
  },
  {
   "cell_type": "code",
   "execution_count": null,
   "metadata": {},
   "outputs": [],
   "source": [
    "weather_station_id = weather_station_location[weather_station_location.NAME == \"BINDUKURI\"].WBAN \n",
    "weather_bin = weather[weather.STA == 32907]\n",
    "weather_bin[\"Date\"] = pd.to_datetime(weather_bin[\"Date\"])\n",
    "plt.figure(figsize=(22,10))\n",
    "plt.plot(weather_bin.Date,weather_bin.MeanTemp)\n",
    "plt.title(\"Mean Temperature of Bindukuri Area\")\n",
    "plt.xlabel(\"Date\")\n",
    "plt.ylabel(\"Mean Temperature\")\n",
    "plt.show()"
   ]
  },
  {
   "source": [
    "For each of the date of attack in `Mission Date`, get the MeanTemp of the city of that date from `weather_bin` dataframe. "
   ],
   "cell_type": "markdown",
   "metadata": {}
  },
  {
   "source": [
    "* As you can see, we have temperature measurement from 1943 to 1945.\n",
    "* Temperature ossilates between 12 and 32 degrees. \n",
    "* Temperature of  winter months is colder than  temperature of  summer months."
   ],
   "cell_type": "markdown",
   "metadata": {}
  },
  {
   "cell_type": "code",
   "execution_count": null,
   "metadata": {},
   "outputs": [],
   "source": [
    "liste = []\n",
    "aa = []\n",
    "for each in aerial_war[\"Mission Date\"]:\n",
    "    dummy = weather_bin[weather_bin.Date == each]\n",
    "    liste.append(dummy[\"MeanTemp\"].values)\n",
    "aerial_war[\"dene\"] = liste\n",
    "for each in aerial_war.dene.values:\n",
    "    aa.append(each[0])\n",
    "\n",
    "# Create a trace\n",
    "trace = go.Scatter(\n",
    "    x = weather_bin.Date,\n",
    "    mode = \"lines\",\n",
    "    y = weather_bin.MeanTemp,\n",
    "    marker = dict(color = 'rgba(16, 112, 2, 0.8)'),\n",
    "    name = \"Mean Temperature\"\n",
    ")\n",
    "trace1 = go.Scatter(\n",
    "    x = aerial_war[\"Mission Date\"],\n",
    "    mode = \"markers\",\n",
    "    y = aa,\n",
    "    marker = dict(color = 'rgba(16, 0, 200, 1)'),\n",
    "    name = \"Bombing temperature\"\n",
    ")\n",
    "layout = dict(title = 'Mean Temperature --- Bombing Dates and Mean Temperature at this Date')\n",
    "data = [trace,trace1]\n",
    "\n",
    "# fig = dict(data = data, layout = layout)\n",
    "# iplot(fig)\n",
    "fig = go.Figure(data=data, layout=layout)\n",
    "fig.show()\n"
   ]
  },
  {
   "source": [
    "* Green line is mean temperature that is measured in Bindukuri.\n",
    "* Blue markers are bombing dates and bombing date temperature.\n",
    "* As it can be seen from plot, USA bomb at high temperatures.\n",
    "    * The question is that can we predict future weather and according to this prediction can we know whether bombing will be done or not.\n",
    "    * In order to answer this question lets first start with time series prediction.\n",
    "  "
   ],
   "cell_type": "markdown",
   "metadata": {}
  },
  {
   "source": [
    "<a id=\"5\"></a> <br>\n",
    "## Time Series Prediction with ARIMA\n",
    "* We will use most used method ARIMA\n",
    "* ARIMA :  AutoRegressive Integrated Moving Average. I will explain it detailed  at next parts.\n",
    "* The way that we will follow: \n",
    "    * What is Time Series ?\n",
    "    * Stationarity of a Time Series\n",
    "    * Make a Time Series Stationary?\n",
    "    * Forecasting a Time Series"
   ],
   "cell_type": "markdown",
   "metadata": {}
  },
  {
   "source": [
    "### What is time series?\n",
    "* Time series is a collection of data points that are collected at constant time intervals.\n",
    "* It is time dependent.\n",
    "* Most of time series have some form of **seasonality trends**. For example, if we sale ice cream, most probably there will be higher sales in summer seasons. Therefore, this time series has seasonality trends.\n",
    "* Another example, lets think we dice one time every day during 1 year. As you guess, there will be no scenario like that number six is appeared mostly in summer season or number five is mostly appeared in January. Therefore, this time series does not have seasonality trends.\n"
   ],
   "cell_type": "markdown",
   "metadata": {}
  },
  {
   "source": [
    "### Stationarity of a Time Series\n",
    "* There are three basic criterion for a time series to understand whether it is stationary series or not.\n",
    "    * Statistical properties of time series such as mean, variance should remain constant over time to call **time series is stationary**\n",
    "        * constant mean\n",
    "        * constant variance\n",
    "        * autocovariance that does not depend on time. autocovariance is covariance between time series and lagged time series.\n",
    "* Lets visualize and check seasonality trend of our time series."
   ],
   "cell_type": "markdown",
   "metadata": {}
  },
  {
   "cell_type": "code",
   "execution_count": null,
   "metadata": {},
   "outputs": [],
   "source": [
    "# Mean temperature of Bindikuri area\n",
    "plt.figure(figsize=(22,10))\n",
    "plt.plot(weather_bin.Date,weather_bin.MeanTemp)\n",
    "plt.title(\"Mean Temperature of Bindukuri Area\")\n",
    "plt.xlabel(\"Date\")\n",
    "plt.ylabel(\"Mean Temperature\")\n",
    "plt.show()"
   ]
  },
  {
   "cell_type": "code",
   "execution_count": null,
   "metadata": {},
   "outputs": [],
   "source": [
    "# lets create time series from weather \n",
    "timeSeries = weather_bin.loc[:, [\"Date\",\"MeanTemp\"]]\n",
    "timeSeries.index = timeSeries.Date\n",
    "ts = timeSeries.drop(\"Date\",axis=1)"
   ]
  },
  {
   "source": [
    "* As you can see from plot above, our time series has seasonal variation. In summer, mean temperature is higher and in winter mean temperature is lower for each year.\n",
    "* Now lets check stationarity of time series. We can check stationarity using the following methods: \n",
    "    * Plotting Rolling Statistics: We have a window lets say window size is 6 and then we find rolling mean and variance to check stationary.\n",
    "    * Dickey-Fuller Test: The test results comprise of a **Test Statistic** and some **Critical Values** for difference confidence levels. If the **test statistic** is less than the **critical value**, we can say that time series is stationary.\n",
    "\n",
    "More info : https://www.statsmodels.org/stable/api.html#statistics-and-tests"
   ],
   "cell_type": "markdown",
   "metadata": {}
  },
  {
   "cell_type": "code",
   "execution_count": null,
   "metadata": {},
   "outputs": [],
   "source": [
    "# import adfuller here\n",
    "\n",
    "# def a 'check_adfuller' function that takes in argument (ts) here. Print test statistic and p-value and  critical value.\n",
    "\n",
    "def check_adfuller(ts):\n",
    "    \"\"\"Performs the dickey-fuller test using the statsmodels tsa package.\"\"\""
   ]
  },
  {
   "source": [
    "Define a `check_mean_std` function that takes in argument `(ts)` here. For `rolling mean`, take a window of 6. \n",
    "For more info, refer this link. https://www.geeksforgeeks.org/python-pandas-dataframe-rolling/'"
   ],
   "cell_type": "markdown",
   "metadata": {}
  },
  {
   "cell_type": "code",
   "execution_count": null,
   "metadata": {},
   "outputs": [],
   "source": [
    "def check_mean_std (ts):\r\n",
    "    \"\"\" Get a rolling statistics of mean of ts, window size =6. Get rolling std of window size 6. \r\n",
    "    Return a plot showing the original ts, rolling mean and rolling std.\"\"\"\r\n",
    "    \r\n",
    "    # Calculate Rolling statistics\r\n",
    "    rolmean = \r\n",
    "    rolstd = \r\n",
    "\r\n",
    "    # Plot the rolling mean & rolling std\r\n",
    "    plt.figure(figsize=(22,10))   \r\n",
    "    orig = plt.plot(ts, color='red',label='Original')\r\n",
    "    mean = plt.plot(rolmean, color='black', label='Rolling Mean')\r\n",
    "    std = plt.plot(rolstd, color='green', label = 'Rolling Std')\r\n",
    "    plt.xlabel(\"Date\")\r\n",
    "    plt.ylabel(\"Mean Temperature\")\r\n",
    "    plt.title('Rolling Mean & Standard Deviation')\r\n",
    "    plt.legend()\r\n",
    "    plt.show()"
   ]
  },
  {
   "cell_type": "code",
   "execution_count": null,
   "metadata": {},
   "outputs": [],
   "source": [
    "# Execute your check_adfuller function and check_mean_std here.\n"
   ]
  },
  {
   "source": [
    "What can you intepret from the tests?"
   ],
   "cell_type": "markdown",
   "metadata": {}
  },
  {
   "source": [
    "### Make a Time Series Stationary?\n",
    "* As we mentioned before, there are 2  reasons behind non-stationarity of time series\n",
    "    * Trend: varying mean over time. We need constant mean for stationary of time series.\n",
    "    * Seasonality: variations at specific time. We need constant variations for stationary of time series.\n",
    "* First solve **trend(constant mean)** problem\n",
    "    * Most popular method is moving average.\n",
    "        * Moving average: We have window that take the average over the past 'n' sample. 'n' is window size.\n",
    "\n",
    "We will use the <u>differencing</u> method to covert to stationary."
   ],
   "cell_type": "markdown",
   "metadata": {}
  },
  {
   "cell_type": "code",
   "execution_count": null,
   "metadata": {},
   "outputs": [],
   "source": [
    "ts_diff = ts - ts.shift()\n",
    "plt.figure(figsize=(22,10))\n",
    "plt.plot(ts_diff)\n",
    "plt.title(\"Differencing method\") \n",
    "plt.xlabel(\"Date\")\n",
    "plt.ylabel(\"Differencing Mean Temperature\")\n",
    "plt.show()"
   ]
  },
  {
   "cell_type": "code",
   "execution_count": null,
   "metadata": {},
   "outputs": [],
   "source": [
    "ts_diff.dropna(inplace=True) # due to shifting there is nan values\n",
    "\n",
    "# check stationarity: mean, variance(std)and adfuller test\n",
    "check_mean_std(ts_diff)\n",
    "check_adfuller(ts_diff.MeanTemp)"
   ]
  },
  {
   "source": [
    "Constant mean criteria: mean looks like constant as you can see from plot(black line) above . (yes stationary)\n",
    "Second one is constant variance. It looks like constant. (yes stationary)\n",
    "The test statistic is smaller than the 1% critical values so we can say with 99% confidence that this is a stationary series. (yes stationary)"
   ],
   "cell_type": "markdown",
   "metadata": {}
  },
  {
   "source": [
    "### Finding ACF and PACF\n",
    "\n",
    "Using the `statsmodels.tsa` module, let's import acf and pacf. \n",
    "\n",
    "Refer here for more info: https://www.statsmodels.org/stable/api.html#statistics-and-tests"
   ],
   "cell_type": "markdown",
   "metadata": {}
  },
  {
   "cell_type": "code",
   "execution_count": null,
   "metadata": {},
   "outputs": [],
   "source": [
    "# import your acf and pacf here\n"
   ]
  },
  {
   "source": [
    "Calculate the <u>lag_acf</u> using the `acf` function and <u>lag_pacf</u> using the `pacf` function above for <b> 20 lags </b>."
   ],
   "cell_type": "markdown",
   "metadata": {}
  },
  {
   "cell_type": "code",
   "execution_count": null,
   "metadata": {},
   "outputs": [],
   "source": [
    "# Complete the following\n",
    "lag_acf = \n",
    "lag_pacf = "
   ]
  },
  {
   "source": [
    "Plot the ACF and PACF of the differenced-time series. "
   ],
   "cell_type": "markdown",
   "metadata": {}
  },
  {
   "cell_type": "code",
   "execution_count": null,
   "metadata": {},
   "outputs": [],
   "source": [
    "# ACF Plot \n",
    "plt.figure(figsize=(22,10))\n",
    "\n",
    "plt.subplot(121) \n",
    "plt.plot(lag_acf)\n",
    "plt.axhline(y=0,linestyle='--',color='gray')\n",
    "plt.axhline(y=-1.96/np.sqrt(len(ts_diff)),linestyle='--',color='gray')\n",
    "plt.axhline(y=1.96/np.sqrt(len(ts_diff)),linestyle='--',color='gray')\n",
    "plt.title('Autocorrelation Function')\n",
    "\n",
    "# PACF Plot\n",
    "plt.subplot(122)\n",
    "plt.plot(lag_pacf)\n",
    "plt.axhline(y=0,linestyle='--',color='gray')\n",
    "plt.axhline(y=-1.96/np.sqrt(len(ts_diff)),linestyle='--',color='gray')\n",
    "plt.axhline(y=1.96/np.sqrt(len(ts_diff)),linestyle='--',color='gray')\n",
    "plt.title('Partial Autocorrelation Function')\n",
    "plt.tight_layout()"
   ]
  },
  {
   "source": [
    "* 1. What can you interpret?\n",
    "* 2. What are the two dotted lines?\n",
    "* 3. How do you determine 'p' and 'q' values (TO BE COVERED IN DAY 3)?\n"
   ],
   "cell_type": "markdown",
   "metadata": {}
  },
  {
   "source": [
    "## END"
   ],
   "cell_type": "markdown",
   "metadata": {}
  }
 ]
}