{
 "cells": [
  {
   "cell_type": "code",
   "execution_count": 1,
   "metadata": {},
   "outputs": [
    {
     "data": {
      "text/html": [
       "<style>\n",
       "h1 {\n",
       "  # border: 1.5px solid #333;\n",
       "  padding: 15px 15px;\n",
       "  # background-image: linear-gradient(180deg, #fff, rgb(160, 147, 147));\n",
       "  background-color: #00A19C;\n",
       "  color: #FFFFFF;\n",
       "  position: static;\n",
       "}\n",
       "\n",
       "h2 {\n",
       "\tpadding: 15px 15px;\n",
       "\tcolor: #00746E;\n",
       "\tposition: static;\n",
       "}\n",
       "\n",
       "h3 {\n",
       "\tpadding: 15px 15px;\n",
       "\tcolor: #9F79B7;\n",
       "\tposition: static;\n",
       "}\n",
       "\n",
       "div.warn {    \n",
       "    background-color: #fcf2f2;\n",
       "    border-color: #dFb5b4;\n",
       "    border-left: 5px solid #dfb5b4;\n",
       "    padding: 0.5em;\n",
       "    }\n",
       "\t\n",
       ".rise-enabled .reveal .slides h1\n",
       " {\n",
       "    color: white;\n",
       "\tpadding-top: 15px;\n",
       "\tpadding-bottom: 15px;\n",
       " }\n",
       " .rise-enabled .reveal .slides h2\n",
       " {\n",
       "    color: #00746E;\n",
       " }\n",
       " .rise-enabled .reveal .slides h3\n",
       " {\n",
       "    color: #9F79B7;\n",
       " }\n",
       " .rise-enabled .reveal .slides p.output_subarea>pre\n",
       " {\n",
       "    color: black;\n",
       " }\n",
       " \n",
       "</style>"
      ],
      "text/plain": [
       "<IPython.core.display.HTML object>"
      ]
     },
     "execution_count": 1,
     "metadata": {},
     "output_type": "execute_result"
    }
   ],
   "source": [
    "# Styling notebook\n",
    "from IPython.core.display import HTML\n",
    "def css_styling():\n",
    "    styles = open(\"../src/rise.css\", \"r\").read()\n",
    "    return HTML(styles)\n",
    "css_styling()"
   ]
  },
  {
   "cell_type": "markdown",
   "metadata": {
    "slideshow": {
     "slide_type": "slide"
    }
   },
   "source": [
    "# INTRODUCTION\n",
    "<a href=\"http://ibb.co/hxXdKx\"><img src=\"http://preview.ibb.co/cgA9Rc/ww2.png\" alt=\"ww2\" border=\"0\" height = 180></a>"
   ]
  },
  {
   "cell_type": "code",
   "execution_count": 2,
   "metadata": {
    "slideshow": {
     "slide_type": "subslide"
    }
   },
   "outputs": [
    {
     "name": "stdout",
     "output_type": "stream",
     "text": [
      "['.ipynb_checkpoints', '1_gFC2bTg3uihp1klknWU0qg.gif', 'airline_passengers.csv', 'AirQualityUCI', 'demand_store_forecast', 'graph.png', 'holt winter.png', 'Holt-winter additive.png', 'Holt-winter single exponential smoothing.png', 'macrodata.csv', 'operations', 'sample_data.csv', 'Summary of Weather', 'Weather Station Locations.csv']\n"
     ]
    }
   ],
   "source": [
    "import numpy as np # linear algebra\n",
    "import pandas as pd # data processing, CSV file I/O (e.g. pd.read_csv)\n",
    "import seaborn as sns # visualization library\n",
    "import matplotlib.pyplot as plt # visualization library\n",
    "import plotly.graph_objs as go # plotly graphical object\n",
    "\n",
    "# Input data files are available in the \"../input/\" directory.\n",
    "# For example, running this (by clicking run or pressing Shift+Enter) will list the files in the input directory\n",
    "import os\n",
    "print(os.listdir(\"../input\"))\n",
    "# import warnings library\n",
    "import warnings        \n",
    "# ignore filters\n",
    "warnings.filterwarnings(\"ignore\") # if there is a warning after some codes, this will avoid us to see them.\n",
    "plt.style.use('ggplot') # style of plots. ggplot is one of the most used style, I also like it."
   ]
  },
  {
   "cell_type": "markdown",
   "metadata": {
    "slideshow": {
     "slide_type": "subslide"
    }
   },
   "source": [
    "* We use 3 data sources.\n",
    "    * <span style=\"color:#00a19b\">Aerial Bombing Operations in WW2 </span>\n",
    "        * Shortly, this data includes bombing operations. For example, USA who use ponte olivo airfield bomb Germany (Berlin) with A36 air craft in 1945.\n",
    "    * <span style=\"color:#00a19b\">Weather Conditions in WW2 </span>\n",
    "        * Shortly, weather conditions during ww2. For example, according to george town weather station, average temperature is 23.88 in 1/7/1942. \n",
    "        * This data set has 2 subset in it. First one includes weather station locations like <u>country, latitude and longitude.</u>\n",
    "        * Second one includes measured <u>min, max and mean </u> temperatures from weather stations."
   ]
  },
  {
   "cell_type": "code",
   "execution_count": 3,
   "metadata": {
    "slideshow": {
     "slide_type": "subslide"
    }
   },
   "outputs": [],
   "source": [
    "# Load the data here\n",
    "aerial = pd.read_csv(\"../input/operations/operations.csv\")\n",
    "# Let's look at the data.\n",
    "aerial.head()\n",
    "\n",
    "# first weather data that includes locations like country, latitude and longitude.\n",
    "weather_station_location = pd.read_csv(\"../input/Weather Station Locations.csv\")\n",
    "weather_station_location = weather_station_location.loc[:,[\"WBAN\",\"NAME\",\"STATE/COUNTRY ID\",\"Latitude\",\"Longitude\"] ]\n",
    "\n",
    "# Second weather data that includes measured min, max and mean temperatures\n",
    "weather = pd.read_csv(\"../input/Summary of Weather/Summary of Weather.csv\")"
   ]
  },
  {
   "cell_type": "code",
   "execution_count": 4,
   "metadata": {
    "slideshow": {
     "slide_type": "subslide"
    }
   },
   "outputs": [],
   "source": [
    "aerial[\"year\"] = [ each.split(\"/\")[2] for each in aerial[\"Mission Date\"]]\n",
    "aerial[\"month\"] = [ each.split(\"/\")[0] for each in aerial[\"Mission Date\"]]\n",
    "aerial = aerial[aerial[\"year\"]>=\"1943\"]\n",
    "aerial = aerial[aerial[\"month\"]>=\"8\"]\n",
    "\n",
    "aerial[\"Mission Date\"] = pd.to_datetime(aerial[\"Mission Date\"])\n",
    "\n",
    "attack = \"USA\"\n",
    "target = \"BURMA\"\n",
    "city = \"KATHA\"\n",
    "\n",
    "## Filter Country, Target Country and Target City here. \n",
    "aerial_war = aerial[aerial.Country == attack]\n",
    "aerial_war = aerial_war[aerial_war[\"Target Country\"] == target]\n",
    "aerial_war = aerial_war[aerial_war[\"Target City\"] == city]"
   ]
  },
  {
   "cell_type": "markdown",
   "metadata": {
    "slideshow": {
     "slide_type": "fragment"
    }
   },
   "source": [
    "Create a new column called year by getting the year of attack from the \"Mission Date\" column. Filter only after year 1943.\n",
    "\n",
    "<p> Create a new dataframe alled `aerial_war` and filter the Country as 'USA', Target Country as \"BURMA\" and Target City as \"KATHA\". </p>"
   ]
  },
  {
   "cell_type": "markdown",
   "metadata": {
    "slideshow": {
     "slide_type": "subslide"
    }
   },
   "source": [
    "* Lets focus **USA and BURMA war**\n",
    "* In this war USA bomb BURMA( KATHA city) from 1942 to 1945.\n",
    "* The closest weather station to this war is **BINDUKURI** and it has temperature record from 1943 to 1945.\n",
    "* Now lets visualize this situation. But before visualization, we need to make <span style=\"color:blue\">date features date time object.</span>"
   ]
  },
  {
   "cell_type": "code",
   "execution_count": 5,
   "metadata": {
    "slideshow": {
     "slide_type": "subslide"
    }
   },
   "outputs": [
    {
     "data": {
      "image/png": "[encoded data removed]",
      "text/plain": [
       "<Figure size 1584x720 with 1 Axes>"
      ]
     },
     "metadata": {},
     "output_type": "display_data"
    }
   ],
   "source": [
    "weather_station_id = weather_station_location[weather_station_location.NAME == \"BINDUKURI\"].WBAN \n",
    "weather_bin = weather[weather.STA == 32907]\n",
    "weather_bin[\"Date\"] = pd.to_datetime(weather_bin[\"Date\"])\n",
    "plt.figure(figsize=(22,10))\n",
    "plt.plot(weather_bin.Date,weather_bin.MeanTemp)\n",
    "plt.title(\"Mean Temperature of Bindukuri Area\")\n",
    "plt.xlabel(\"Date\")\n",
    "plt.ylabel(\"Mean Temperature\")\n",
    "plt.show()"
   ]
  },
  {
   "cell_type": "markdown",
   "metadata": {
    "slideshow": {
     "slide_type": "subslide"
    }
   },
   "source": [
    "For each of the date of attack in `Mission Date`, get the MeanTemp of the city of that date from `weather_bin` dataframe. "
   ]
  },
  {
   "cell_type": "markdown",
   "metadata": {
    "slideshow": {
     "slide_type": "fragment"
    }
   },
   "source": [
    "* As you can see, we have temperature measurement from 1943 to 1945.\n",
    "* Temperature ossilates between 12 and 32 degrees. \n",
    "* Temperature of  winter months is colder than  temperature of  summer months."
   ]
  },
  {
   "cell_type": "code",
   "execution_count": 11,
   "metadata": {
    "scrolled": true,
    "slideshow": {
     "slide_type": "subslide"
    }
   },
   "outputs": [],
   "source": [
    "liste = []\n",
    "aa = []\n",
    "for each in aerial_war[\"Mission Date\"]:\n",
    "    dummy = weather_bin[weather_bin.Date == each]\n",
    "    liste.append(dummy[\"MeanTemp\"].values)\n",
    "aerial_war[\"dene\"] = liste\n",
    "for each in aerial_war.dene.values:\n",
    "    aa.append(each[0])"
   ]
  },
  {
   "cell_type": "code",
   "execution_count": 12,
   "metadata": {
    "scrolled": true,
    "slideshow": {
     "slide_type": "subslide"
    }
   },
   "outputs": [
    {
     "data": {
      "application/vnd.plotly.v1+json": {
       "config": {
        "plotlyServerURL": "https://plot.ly"
       },
       "data": [
        {
         "marker": {
          "color": "rgba(16, 112, 2, 0.8)"
         },
         "mode": "lines",
         "name": "Mean Temperature",
         "type": "scatter",
         "x": [
          "1943-05-11T00:00:00",
          "1943-05-12T00:00:00",
          "1943-05-13T00:00:00",
          "1943-05-14T00:00:00",
          "1943-05-15T00:00:00",
          "1943-05-16T00:00:00",
          "1943-05-17T00:00:00",
          "1943-05-18T00:00:00",
          "1943-05-19T00:00:00",
          "1943-05-20T00:00:00",
          "1943-05-21T00:00:00",
          "1943-05-22T00:00:00",
          "1943-05-23T00:00:00",
          "1943-05-24T00:00:00",
          "1943-05-25T00:00:00",
          "1943-05-26T00:00:00",
          "1943-05-27T00:00:00",
          "1943-05-28T00:00:00",
          "1943-05-29T00:00:00",
          "1943-05-30T00:00:00",
          "1943-05-31T00:00:00",
          "1943-06-01T00:00:00",
          "1943-06-02T00:00:00",
          "1943-06-03T00:00:00",
          "1943-06-04T00:00:00",
          "1943-06-05T00:00:00",
          "1943-06-06T00:00:00",
          "1943-06-07T00:00:00",
          "1943-06-08T00:00:00",
          "1943-06-09T00:00:00",
          "1943-06-10T00:00:00",
          "1943-06-11T00:00:00",
          "1943-06-12T00:00:00",
          "1943-06-13T00:00:00",
          "1943-06-14T00:00:00",
          "1943-06-15T00:00:00",
          "1943-06-16T00:00:00",
          "1943-06-17T00:00:00",
          "1943-06-18T00:00:00",
          "1943-06-19T00:00:00",
          "1943-06-20T00:00:00",
          "1943-06-21T00:00:00",
          "1943-06-22T00:00:00",
          "1943-06-23T00:00:00",
          "1943-06-24T00:00:00",
          "1943-06-25T00:00:00",
          "1943-06-26T00:00:00",
          "1943-06-27T00:00:00",
          "1943-06-28T00:00:00",
          "1943-06-29T00:00:00",
          "1943-06-30T00:00:00",
          "1943-07-01T00:00:00",
          "1943-07-02T00:00:00",
          "1943-07-03T00:00:00",
          "1943-07-04T00:00:00",
          "1943-07-05T00:00:00",
          "1943-07-06T00:00:00",
          "1943-07-07T00:00:00",
          "1943-07-08T00:00:00",
          "1943-07-09T00:00:00",
          "1943-07-10T00:00:00",
          "1943-07-11T00:00:00",
          "1943-07-12T00:00:00",
          "1943-07-13T00:00:00",
          "1943-07-14T00:00:00",
          "1943-07-15T00:00:00",
          "1943-07-16T00:00:00",
          "1943-07-17T00:00:00",
          "1943-07-18T00:00:00",
          "1943-07-19T00:00:00",
          "1943-07-20T00:00:00",
          "1943-07-21T00:00:00",
          "1943-07-22T00:00:00",
          "1943-07-23T00:00:00",
          "1943-07-24T00:00:00",
          "1943-07-25T00:00:00",
          "1943-07-26T00:00:00",
          "1943-07-27T00:00:00",
          "1943-07-28T00:00:00",
          "1943-07-29T00:00:00",
          "1943-07-30T00:00:00",
          "1943-07-31T00:00:00",
          "1943-08-01T00:00:00",
          "1943-08-02T00:00:00",
          "1943-08-03T00:00:00",
          "1943-08-04T00:00:00",
          "1943-08-05T00:00:00",
          "1943-08-06T00:00:00",
          "1943-08-07T00:00:00",
          "1943-08-08T00:00:00",
          "1943-08-09T00:00:00",
          "1943-08-10T00:00:00",
          "1943-08-11T00:00:00",
          "1943-08-12T00:00:00",
          "1943-08-13T00:00:00",
          "1943-08-14T00:00:00",
          "1943-08-15T00:00:00",
          "1943-08-16T00:00:00",
          "1943-08-17T00:00:00",
          "1943-08-18T00:00:00",
          "1943-08-19T00:00:00",
          "1943-08-20T00:00:00",
          "1943-08-21T00:00:00",
          "1943-08-22T00:00:00",
          "1943-08-23T00:00:00",
          "1943-08-24T00:00:00",
          "1943-08-25T00:00:00",
          "1943-08-26T00:00:00",
          "1943-08-27T00:00:00",
          "1943-08-28T00:00:00",
          "1943-08-29T00:00:00",
          "1943-08-30T00:00:00",
          "1943-08-31T00:00:00",
          "1943-09-01T00:00:00",
          "1943-09-02T00:00:00",
          "1943-09-03T00:00:00",
          "1943-09-04T00:00:00",
          "1943-09-05T00:00:00",
          "1943-09-06T00:00:00",
          "1943-09-07T00:00:00",
          "1943-09-08T00:00:00",
          "1943-09-09T00:00:00",
          "1943-09-10T00:00:00",
          "1943-09-11T00:00:00",
          "1943-09-12T00:00:00",
          "1943-09-13T00:00:00",
          "1943-09-14T00:00:00",
          "1943-09-15T00:00:00",
          "1943-09-16T00:00:00",
          "1943-09-17T00:00:00",
          "1943-09-18T00:00:00",
          "1943-09-19T00:00:00",
          "1943-09-20T00:00:00",
          "1943-09-21T00:00:00",
          "1943-09-22T00:00:00",
          "1943-09-23T00:00:00",
          "1943-09-24T00:00:00",
          "1943-09-25T00:00:00",
          "1943-09-26T00:00:00",
          "1943-09-27T00:00:00",
          "1943-09-28T00:00:00",
          "1943-09-29T00:00:00",
          "1943-09-30T00:00:00",
          "1943-10-01T00:00:00",
          "1943-10-02T00:00:00",
          "1943-10-03T00:00:00",
          "1943-10-04T00:00:00",
          "1943-10-05T00:00:00",
          "1943-10-06T00:00:00",
          "1943-10-07T00:00:00",
          "1943-10-08T00:00:00",
          "1943-10-09T00:00:00",
          "1943-10-10T00:00:00",
          "1943-10-11T00:00:00",
          "1943-10-12T00:00:00",
          "1943-10-13T00:00:00",
          "1943-10-14T00:00:00",
          "1943-10-15T00:00:00",
          "1943-10-16T00:00:00",
          "1943-10-17T00:00:00",
          "1943-10-18T00:00:00",
          "1943-10-19T00:00:00",
          "1943-10-20T00:00:00",
          "1943-10-21T00:00:00",
          "1943-10-22T00:00:00",
          "1943-10-23T00:00:00",
          "1943-10-24T00:00:00",
          "1943-10-25T00:00:00",
          "1943-10-26T00:00:00",
          "1943-10-27T00:00:00",
          "1943-10-28T00:00:00",
          "1943-10-29T00:00:00",
          "1943-10-30T00:00:00",
          "1943-10-31T00:00:00",
          "1943-11-01T00:00:00",
          "1943-11-02T00:00:00",
          "1943-11-03T00:00:00",
          "1943-11-04T00:00:00",
          "1943-11-05T00:00:00",
          "1943-11-06T00:00:00",
          "1943-11-07T00:00:00",
          "1943-11-08T00:00:00",
          "1943-11-09T00:00:00",
          "1943-11-10T00:00:00",
          "1943-11-11T00:00:00",
          "1943-11-12T00:00:00",
          "1943-11-13T00:00:00",
          "1943-11-14T00:00:00",
          "1943-11-15T00:00:00",
          "1943-11-16T00:00:00",
          "1943-11-17T00:00:00",
          "1943-11-18T00:00:00",
          "1943-11-19T00:00:00",
          "1943-11-20T00:00:00",
          "1943-11-21T00:00:00",
          "1943-11-22T00:00:00",
          "1943-11-23T00:00:00",
          "1943-11-24T00:00:00",
          "1943-11-25T00:00:00",
          "1943-11-26T00:00:00",
          "1943-11-27T00:00:00",
          "1943-11-28T00:00:00",
          "1943-11-29T00:00:00",
          "1943-11-30T00:00:00",
          "1943-12-01T00:00:00",
          "1943-12-02T00:00:00",
          "1943-12-03T00:00:00",
          "1943-12-04T00:00:00",
          "1943-12-05T00:00:00",
          "1943-12-06T00:00:00",
          "1943-12-07T00:00:00",
          "1943-12-08T00:00:00",
          "1943-12-09T00:00:00",
          "1943-12-10T00:00:00",
          "1943-12-11T00:00:00",
          "1943-12-12T00:00:00",
          "1943-12-13T00:00:00",
          "1943-12-14T00:00:00",
          "1943-12-15T00:00:00",
          "1943-12-16T00:00:00",
          "1943-12-17T00:00:00",
          "1943-12-18T00:00:00",
          "1943-12-19T00:00:00",
          "1943-12-20T00:00:00",
          "1943-12-21T00:00:00",
          "1943-12-22T00:00:00",
          "1943-12-23T00:00:00",
          "1943-12-24T00:00:00",
          "1943-12-25T00:00:00",
          "1943-12-26T00:00:00",
          "1943-12-27T00:00:00",
          "1943-12-28T00:00:00",
          "1943-12-29T00:00:00",
          "1943-12-30T00:00:00",
          "1943-12-31T00:00:00",
          "1944-01-01T00:00:00",
          "1944-01-02T00:00:00",
          "1944-01-03T00:00:00",
          "1944-01-04T00:00:00",
          "1944-01-05T00:00:00",
          "1944-01-06T00:00:00",
          "1944-01-07T00:00:00",
          "1944-01-08T00:00:00",
          "1944-01-09T00:00:00",
          "1944-01-10T00:00:00",
          "1944-01-11T00:00:00",
          "1944-01-12T00:00:00",
          "1944-01-13T00:00:00",
          "1944-01-14T00:00:00",
          "1944-01-15T00:00:00",
          "1944-01-16T00:00:00",
          "1944-01-17T00:00:00",
          "1944-01-18T00:00:00",
          "1944-01-19T00:00:00",
          "1944-01-20T00:00:00",
          "1944-01-21T00:00:00",
          "1944-01-22T00:00:00",
          "1944-01-23T00:00:00",
          "1944-01-24T00:00:00",
          "1944-01-25T00:00:00",
          "1944-01-26T00:00:00",
          "1944-01-27T00:00:00",
          "1944-01-28T00:00:00",
          "1944-01-29T00:00:00",
          "1944-01-30T00:00:00",
          "1944-01-31T00:00:00",
          "1944-02-01T00:00:00",
          "1944-02-02T00:00:00",
          "1944-02-03T00:00:00",
          "1944-02-04T00:00:00",
          "1944-02-05T00:00:00",
          "1944-02-06T00:00:00",
          "1944-02-07T00:00:00",
          "1944-02-08T00:00:00",
          "1944-02-09T00:00:00",
          "1944-02-10T00:00:00",
          "1944-02-11T00:00:00",
          "1944-02-12T00:00:00",
          "1944-02-13T00:00:00",
          "1944-02-14T00:00:00",
          "1944-02-15T00:00:00",
          "1944-02-16T00:00:00",
          "1944-02-17T00:00:00",
          "1944-02-18T00:00:00",
          "1944-02-19T00:00:00",
          "1944-02-20T00:00:00",
          "1944-02-21T00:00:00",
          "1944-02-22T00:00:00",
          "1944-02-23T00:00:00",
          "1944-02-24T00:00:00",
          "1944-02-25T00:00:00",
          "1944-02-26T00:00:00",
          "1944-02-27T00:00:00",
          "1944-02-28T00:00:00",
          "1944-02-29T00:00:00",
          "1944-03-01T00:00:00",
          "1944-03-02T00:00:00",
          "1944-03-03T00:00:00",
          "1944-03-04T00:00:00",
          "1944-03-05T00:00:00",
          "1944-03-06T00:00:00",
          "1944-03-07T00:00:00",
          "1944-03-08T00:00:00",
          "1944-03-09T00:00:00",
          "1944-03-10T00:00:00",
          "1944-03-11T00:00:00",
          "1944-03-12T00:00:00",
          "1944-03-13T00:00:00",
          "1944-03-14T00:00:00",
          "1944-03-15T00:00:00",
          "1944-03-16T00:00:00",
          "1944-03-17T00:00:00",
          "1944-03-18T00:00:00",
          "1944-03-19T00:00:00",
          "1944-03-20T00:00:00",
          "1944-03-21T00:00:00",
          "1944-03-22T00:00:00",
          "1944-03-23T00:00:00",
          "1944-03-24T00:00:00",
          "1944-03-25T00:00:00",
          "1944-03-26T00:00:00",
          "1944-03-27T00:00:00",
          "1944-03-28T00:00:00",
          "1944-03-29T00:00:00",
          "1944-03-30T00:00:00",
          "1944-03-31T00:00:00",
          "1944-04-01T00:00:00",
          "1944-04-02T00:00:00",
          "1944-04-03T00:00:00",
          "1944-04-04T00:00:00",
          "1944-04-05T00:00:00",
          "1944-04-06T00:00:00",
          "1944-04-07T00:00:00",
          "1944-04-08T00:00:00",
          "1944-04-09T00:00:00",
          "1944-04-10T00:00:00",
          "1944-04-11T00:00:00",
          "1944-04-12T00:00:00",
          "1944-04-13T00:00:00",
          "1944-04-14T00:00:00",
          "1944-04-15T00:00:00",
          "1944-04-16T00:00:00",
          "1944-04-17T00:00:00",
          "1944-04-18T00:00:00",
          "1944-04-19T00:00:00",
          "1944-04-20T00:00:00",
          "1944-04-21T00:00:00",
          "1944-04-22T00:00:00",
          "1944-04-23T00:00:00",
          "1944-04-24T00:00:00",
          "1944-04-25T00:00:00",
          "1944-04-26T00:00:00",
          "1944-04-27T00:00:00",
          "1944-04-28T00:00:00",
          "1944-04-29T00:00:00",
          "1944-04-30T00:00:00",
          "1944-05-01T00:00:00",
          "1944-05-02T00:00:00",
          "1944-05-03T00:00:00",
          "1944-05-04T00:00:00",
          "1944-05-05T00:00:00",
          "1944-05-06T00:00:00",
          "1944-05-07T00:00:00",
          "1944-05-08T00:00:00",
          "1944-05-09T00:00:00",
          "1944-05-10T00:00:00",
          "1944-05-11T00:00:00",
          "1944-05-12T00:00:00",
          "1944-05-13T00:00:00",
          "1944-05-14T00:00:00",
          "1944-05-15T00:00:00",
          "1944-05-16T00:00:00",
          "1944-05-17T00:00:00",
          "1944-05-18T00:00:00",
          "1944-05-19T00:00:00",
          "1944-05-20T00:00:00",
          "1944-05-21T00:00:00",
          "1944-05-22T00:00:00",
          "1944-05-23T00:00:00",
          "1944-05-24T00:00:00",
          "1944-05-25T00:00:00",
          "1944-05-26T00:00:00",
          "1944-05-27T00:00:00",
          "1944-05-28T00:00:00",
          "1944-05-29T00:00:00",
          "1944-05-30T00:00:00",
          "1944-05-31T00:00:00",
          "1944-06-01T00:00:00",
          "1944-06-02T00:00:00",
          "1944-06-03T00:00:00",
          "1944-06-04T00:00:00",
          "1944-06-05T00:00:00",
          "1944-06-06T00:00:00",
          "1944-06-07T00:00:00",
          "1944-06-08T00:00:00",
          "1944-06-09T00:00:00",
          "1944-06-10T00:00:00",
          "1944-06-11T00:00:00",
          "1944-06-12T00:00:00",
          "1944-06-13T00:00:00",
          "1944-06-14T00:00:00",
          "1944-06-15T00:00:00",
          "1944-06-16T00:00:00",
          "1944-06-17T00:00:00",
          "1944-06-18T00:00:00",
          "1944-06-19T00:00:00",
          "1944-06-20T00:00:00",
          "1944-06-21T00:00:00",
          "1944-06-22T00:00:00",
          "1944-06-23T00:00:00",
          "1944-06-24T00:00:00",
          "1944-06-25T00:00:00",
          "1944-06-26T00:00:00",
          "1944-06-27T00:00:00",
          "1944-06-28T00:00:00",
          "1944-06-29T00:00:00",
          "1944-06-30T00:00:00",
          "1944-07-01T00:00:00",
          "1944-07-02T00:00:00",
          "1944-07-03T00:00:00",
          "1944-07-04T00:00:00",
          "1944-07-05T00:00:00",
          "1944-07-06T00:00:00",
          "1944-07-07T00:00:00",
          "1944-07-08T00:00:00",
          "1944-07-09T00:00:00",
          "1944-07-10T00:00:00",
          "1944-07-11T00:00:00",
          "1944-07-12T00:00:00",
          "1944-07-13T00:00:00",
          "1944-07-14T00:00:00",
          "1944-07-15T00:00:00",
          "1944-07-16T00:00:00",
          "1944-07-17T00:00:00",
          "1944-07-18T00:00:00",
          "1944-07-19T00:00:00",
          "1944-07-20T00:00:00",
          "1944-07-21T00:00:00",
          "1944-07-22T00:00:00",
          "1944-07-23T00:00:00",
          "1944-07-24T00:00:00",
          "1944-07-25T00:00:00",
          "1944-07-26T00:00:00",
          "1944-07-27T00:00:00",
          "1944-07-28T00:00:00",
          "1944-07-29T00:00:00",
          "1944-07-30T00:00:00",
          "1944-07-31T00:00:00",
          "1944-08-01T00:00:00",
          "1944-08-02T00:00:00",
          "1944-08-03T00:00:00",
          "1944-08-04T00:00:00",
          "1944-08-05T00:00:00",
          "1944-08-06T00:00:00",
          "1944-08-07T00:00:00",
          "1944-08-08T00:00:00",
          "1944-08-09T00:00:00",
          "1944-08-10T00:00:00",
          "1944-08-11T00:00:00",
          "1944-08-12T00:00:00",
          "1944-08-13T00:00:00",
          "1944-08-14T00:00:00",
          "1944-08-15T00:00:00",
          "1944-08-16T00:00:00",
          "1944-08-17T00:00:00",
          "1944-08-18T00:00:00",
          "1944-08-19T00:00:00",
          "1944-08-20T00:00:00",
          "1944-08-21T00:00:00",
          "1944-08-22T00:00:00",
          "1944-08-23T00:00:00",
          "1944-08-24T00:00:00",
          "1944-08-25T00:00:00",
          "1944-08-26T00:00:00",
          "1944-08-27T00:00:00",
          "1944-08-28T00:00:00",
          "1944-08-29T00:00:00",
          "1944-08-30T00:00:00",
          "1944-08-31T00:00:00",
          "1944-09-01T00:00:00",
          "1944-09-02T00:00:00",
          "1944-09-03T00:00:00",
          "1944-09-04T00:00:00",
          "1944-09-05T00:00:00",
          "1944-09-06T00:00:00",
          "1944-09-07T00:00:00",
          "1944-09-08T00:00:00",
          "1944-09-09T00:00:00",
          "1944-09-10T00:00:00",
          "1944-09-11T00:00:00",
          "1944-09-12T00:00:00",
          "1944-09-13T00:00:00",
          "1944-09-14T00:00:00",
          "1944-09-15T00:00:00",
          "1944-09-16T00:00:00",
          "1944-09-17T00:00:00",
          "1944-09-18T00:00:00",
          "1944-09-19T00:00:00",
          "1944-09-20T00:00:00",
          "1944-09-21T00:00:00",
          "1944-09-22T00:00:00",
          "1944-09-23T00:00:00",
          "1944-09-24T00:00:00",
          "1944-09-25T00:00:00",
          "1944-09-26T00:00:00",
          "1944-09-27T00:00:00",
          "1944-09-28T00:00:00",
          "1944-09-29T00:00:00",
          "1944-09-30T00:00:00",
          "1944-10-01T00:00:00",
          "1944-10-02T00:00:00",
          "1944-10-03T00:00:00",
          "1944-10-04T00:00:00",
          "1944-10-05T00:00:00",
          "1944-10-06T00:00:00",
          "1944-10-07T00:00:00",
          "1944-10-08T00:00:00",
          "1944-10-09T00:00:00",
          "1944-10-10T00:00:00",
          "1944-10-11T00:00:00",
          "1944-10-12T00:00:00",
          "1944-10-13T00:00:00",
          "1944-10-14T00:00:00",
          "1944-10-15T00:00:00",
          "1944-10-16T00:00:00",
          "1944-10-17T00:00:00",
          "1944-10-18T00:00:00",
          "1944-10-19T00:00:00",
          "1944-10-20T00:00:00",
          "1944-10-21T00:00:00",
          "1944-10-22T00:00:00",
          "1944-10-23T00:00:00",
          "1944-10-24T00:00:00",
          "1944-10-25T00:00:00",
          "1944-10-26T00:00:00",
          "1944-10-27T00:00:00",
          "1944-10-28T00:00:00",
          "1944-10-29T00:00:00",
          "1944-10-30T00:00:00",
          "1944-10-31T00:00:00",
          "1944-11-01T00:00:00",
          "1944-11-02T00:00:00",
          "1944-11-03T00:00:00",
          "1944-11-04T00:00:00",
          "1944-11-05T00:00:00",
          "1944-11-06T00:00:00",
          "1944-11-07T00:00:00",
          "1944-11-08T00:00:00",
          "1944-11-09T00:00:00",
          "1944-11-10T00:00:00",
          "1944-11-11T00:00:00",
          "1944-11-12T00:00:00",
          "1944-11-13T00:00:00",
          "1944-11-14T00:00:00",
          "1944-11-15T00:00:00",
          "1944-11-16T00:00:00",
          "1944-11-17T00:00:00",
          "1944-11-18T00:00:00",
          "1944-11-19T00:00:00",
          "1944-11-20T00:00:00",
          "1944-11-21T00:00:00",
          "1944-11-22T00:00:00",
          "1944-11-23T00:00:00",
          "1944-11-24T00:00:00",
          "1944-11-25T00:00:00",
          "1944-11-26T00:00:00",
          "1944-11-27T00:00:00",
          "1944-11-28T00:00:00",
          "1944-11-29T00:00:00",
          "1944-11-30T00:00:00",
          "1944-12-02T00:00:00",
          "1944-12-03T00:00:00",
          "1944-12-04T00:00:00",
          "1944-12-05T00:00:00",
          "1944-12-06T00:00:00",
          "1944-12-07T00:00:00",
          "1944-12-08T00:00:00",
          "1944-12-09T00:00:00",
          "1944-12-10T00:00:00",
          "1944-12-11T00:00:00",
          "1944-12-12T00:00:00",
          "1944-12-13T00:00:00",
          "1944-12-14T00:00:00",
          "1944-12-15T00:00:00",
          "1944-12-16T00:00:00",
          "1944-12-17T00:00:00",
          "1944-12-18T00:00:00",
          "1944-12-19T00:00:00",
          "1944-12-20T00:00:00",
          "1944-12-21T00:00:00",
          "1944-12-22T00:00:00",
          "1944-12-23T00:00:00",
          "1944-12-24T00:00:00",
          "1944-12-25T00:00:00",
          "1944-12-26T00:00:00",
          "1944-12-27T00:00:00",
          "1944-12-28T00:00:00",
          "1944-12-29T00:00:00",
          "1944-12-30T00:00:00",
          "1944-12-31T00:00:00",
          "1945-01-01T00:00:00",
          "1945-01-02T00:00:00",
          "1945-01-03T00:00:00",
          "1945-01-04T00:00:00",
          "1945-01-05T00:00:00",
          "1945-01-06T00:00:00",
          "1945-01-07T00:00:00",
          "1945-01-08T00:00:00",
          "1945-01-09T00:00:00",
          "1945-01-10T00:00:00",
          "1945-01-11T00:00:00",
          "1945-01-12T00:00:00",
          "1945-01-13T00:00:00",
          "1945-01-14T00:00:00",
          "1945-01-15T00:00:00",
          "1945-01-16T00:00:00",
          "1945-01-17T00:00:00",
          "1945-01-18T00:00:00",
          "1945-01-19T00:00:00",
          "1945-01-20T00:00:00",
          "1945-01-21T00:00:00",
          "1945-01-22T00:00:00",
          "1945-01-23T00:00:00",
          "1945-01-24T00:00:00",
          "1945-01-25T00:00:00",
          "1945-01-26T00:00:00",
          "1945-01-27T00:00:00",
          "1945-01-28T00:00:00",
          "1945-01-29T00:00:00",
          "1945-01-30T00:00:00",
          "1945-01-31T00:00:00",
          "1945-02-01T00:00:00",
          "1945-02-02T00:00:00",
          "1945-02-03T00:00:00",
          "1945-02-04T00:00:00",
          "1945-02-05T00:00:00",
          "1945-02-06T00:00:00",
          "1945-02-07T00:00:00",
          "1945-02-08T00:00:00",
          "1945-02-09T00:00:00",
          "1945-02-10T00:00:00",
          "1945-02-11T00:00:00",
          "1945-02-12T00:00:00",
          "1945-02-13T00:00:00",
          "1945-02-14T00:00:00",
          "1945-02-15T00:00:00",
          "1945-02-16T00:00:00",
          "1945-02-17T00:00:00",
          "1945-02-18T00:00:00",
          "1945-02-19T00:00:00",
          "1945-02-20T00:00:00",
          "1945-02-21T00:00:00",
          "1945-02-22T00:00:00",
          "1945-02-23T00:00:00",
          "1945-02-24T00:00:00",
          "1945-02-25T00:00:00",
          "1945-02-26T00:00:00",
          "1945-02-27T00:00:00",
          "1945-02-28T00:00:00",
          "1945-03-01T00:00:00",
          "1945-03-02T00:00:00",
          "1945-03-03T00:00:00",
          "1945-03-04T00:00:00",
          "1945-03-05T00:00:00",
          "1945-03-06T00:00:00",
          "1945-03-07T00:00:00",
          "1945-03-08T00:00:00",
          "1945-03-09T00:00:00",
          "1945-03-10T00:00:00",
          "1945-03-11T00:00:00",
          "1945-03-12T00:00:00",
          "1945-03-13T00:00:00",
          "1945-03-14T00:00:00",
          "1945-03-15T00:00:00",
          "1945-03-16T00:00:00",
          "1945-03-17T00:00:00",
          "1945-03-18T00:00:00",
          "1945-03-19T00:00:00",
          "1945-03-20T00:00:00",
          "1945-03-21T00:00:00",
          "1945-03-22T00:00:00",
          "1945-03-23T00:00:00",
          "1945-03-24T00:00:00",
          "1945-03-25T00:00:00",
          "1945-03-26T00:00:00",
          "1945-03-27T00:00:00",
          "1945-03-28T00:00:00",
          "1945-03-29T00:00:00",
          "1945-03-30T00:00:00",
          "1945-03-31T00:00:00",
          "1945-04-01T00:00:00",
          "1945-04-02T00:00:00",
          "1945-04-03T00:00:00",
          "1945-04-04T00:00:00",
          "1945-04-05T00:00:00",
          "1945-04-06T00:00:00",
          "1945-04-07T00:00:00",
          "1945-04-08T00:00:00",
          "1945-04-09T00:00:00",
          "1945-04-10T00:00:00",
          "1945-04-11T00:00:00",
          "1945-04-12T00:00:00",
          "1945-04-13T00:00:00",
          "1945-04-14T00:00:00",
          "1945-04-15T00:00:00",
          "1945-04-16T00:00:00",
          "1945-04-17T00:00:00",
          "1945-04-18T00:00:00",
          "1945-04-19T00:00:00",
          "1945-04-20T00:00:00",
          "1945-04-21T00:00:00",
          "1945-04-22T00:00:00",
          "1945-04-23T00:00:00",
          "1945-04-24T00:00:00",
          "1945-04-25T00:00:00",
          "1945-04-26T00:00:00",
          "1945-04-27T00:00:00",
          "1945-04-28T00:00:00",
          "1945-04-29T00:00:00",
          "1945-04-30T00:00:00",
          "1945-05-01T00:00:00",
          "1945-05-02T00:00:00",
          "1945-05-03T00:00:00",
          "1945-05-04T00:00:00",
          "1945-05-05T00:00:00",
          "1945-05-06T00:00:00",
          "1945-05-07T00:00:00",
          "1945-05-08T00:00:00",
          "1945-05-09T00:00:00",
          "1945-05-10T00:00:00",
          "1945-05-11T00:00:00",
          "1945-05-12T00:00:00",
          "1945-05-13T00:00:00",
          "1945-05-14T00:00:00",
          "1945-05-15T00:00:00",
          "1945-05-16T00:00:00",
          "1945-05-17T00:00:00",
          "1945-05-18T00:00:00",
          "1945-05-19T00:00:00",
          "1945-05-20T00:00:00",
          "1945-05-21T00:00:00",
          "1945-05-22T00:00:00",
          "1945-05-23T00:00:00",
          "1945-05-24T00:00:00",
          "1945-05-25T00:00:00",
          "1945-05-26T00:00:00",
          "1945-05-27T00:00:00",
          "1945-05-28T00:00:00",
          "1945-05-29T00:00:00",
          "1945-05-30T00:00:00",
          "1945-05-31T00:00:00"
         ],
         "y": [
          28.88888889,
          25.55555556,
          24.44444444,
          23.88888889,
          27.77777778,
          26.66666667,
          24.44444444,
          24.44444444,
          24.44444444,
          24.44444444,
          24.44444444,
          24.44444444,
          25.55555556,
          27.22222222,
          26.66666667,
          25.55555556,
          23.33333333,
          25.55555556,
          27.77777778,
          30,
          28.33333333,
          28.33333333,
          27.77777778,
          27.22222222,
          28.88888889,
          26.66666667,
          26.66666667,
          27.77777778,
          27.77777778,
          26.66666667,
          27.77777778,
          30,
          27.77777778,
          26.66666667,
          28.33333333,
          29.44444444,
          26.66666667,
          27.77777778,
          28.88888889,
          27.77777778,
          28.33333333,
          28.33333333,
          28.88888889,
          28.88888889,
          27.77777778,
          28.33333333,
          28.33333333,
          29.44444444,
          28.88888889,
          28.88888889,
          27.77777778,
          27.77777778,
          28.33333333,
          27.77777778,
          27.22222222,
          27.77777778,
          27.77777778,
          27.77777778,
          28.88888889,
          28.88888889,
          29.44444444,
          31.11111111,
          31.11111111,
          28.88888889,
          28.88888889,
          27.77777778,
          29.44444444,
          29.44444444,
          28.88888889,
          25.55555556,
          28.88888889,
          28.88888889,
          28.88888889,
          30,
          31.11111111,
          30,
          30,
          28.88888889,
          28.88888889,
          28.88888889,
          30,
          28.88888889,
          27.22222222,
          28.88888889,
          28.88888889,
          27.77777778,
          29.44444444,
          28.33333333,
          27.22222222,
          27.77777778,
          26.66666667,
          27.77777778,
          26.66666667,
          28.88888889,
          30,
          26.11111111,
          27.77777778,
          27.77777778,
          28.88888889,
          28.88888889,
          28.33333333,
          29.44444444,
          27.77777778,
          27.77777778,
          28.88888889,
          28.88888889,
          28.88888889,
          26.11111111,
          25.55555556,
          27.77777778,
          28.88888889,
          28.88888889,
          27.77777778,
          30,
          28.88888889,
          28.88888889,
          30,
          28.88888889,
          28.33333333,
          26.66666667,
          28.88888889,
          30.55555556,
          27.77777778,
          23.88888889,
          25.55555556,
          27.22222222,
          28.88888889,
          30,
          30,
          31.11111111,
          30.55555556,
          31.11111111,
          31.66666667,
          30,
          27.77777778,
          30,
          26.66666667,
          26.66666667,
          26.66666667,
          23.88888889,
          24.44444444,
          26.11111111,
          27.77777778,
          28.88888889,
          28.88888889,
          28.88888889,
          27.77777778,
          26.66666667,
          23.33333333,
          26.66666667,
          29.44444444,
          28.33333333,
          27.77777778,
          26.11111111,
          26.11111111,
          26.66666667,
          25.55555556,
          25.55555556,
          25,
          24.44444444,
          25.55555556,
          27.77777778,
          25.55555556,
          26.66666667,
          25.55555556,
          26.11111111,
          24.44444444,
          25.55555556,
          23.88888889,
          23.33333333,
          23.33333333,
          23.33333333,
          23.33333333,
          23.33333333,
          22.77777778,
          24.44444444,
          24.44444444,
          24.44444444,
          25,
          24.44444444,
          23.88888889,
          23.88888889,
          24.44444444,
          23.33333333,
          23.33333333,
          22.22222222,
          22.22222222,
          22.22222222,
          22.22222222,
          21.66666667,
          22.22222222,
          22.77777778,
          22.22222222,
          23.88888889,
          21.11111111,
          23.33333333,
          22.77777778,
          21.66666667,
          22.22222222,
          20.55555556,
          20,
          22.22222222,
          21.11111111,
          20.55555556,
          20,
          20.55555556,
          20,
          18.88888889,
          18.88888889,
          17.77777778,
          16.66666667,
          16.66666667,
          16.66666667,
          16.66666667,
          16.66666667,
          18.33333333,
          17.77777778,
          18.88888889,
          17.77777778,
          17.77777778,
          17.77777778,
          18.33333333,
          17.22222222,
          17.77777778,
          17.77777778,
          17.77777778,
          17.77777778,
          18.88888889,
          18.88888889,
          18.88888889,
          17.77777778,
          19.44444444,
          17.22222222,
          16.66666667,
          17.77777778,
          16.66666667,
          16.11111111,
          16.11111111,
          15.55555556,
          15.55555556,
          12.22222222,
          16.66666667,
          16.66666667,
          16.66666667,
          16.66666667,
          16.66666667,
          17.77777778,
          16.66666667,
          17.22222222,
          16.66666667,
          15.55555556,
          16.66666667,
          16.11111111,
          16.11111111,
          16.66666667,
          15.55555556,
          15.55555556,
          16.66666667,
          17.77777778,
          15.55555556,
          17.77777778,
          15.55555556,
          18.88888889,
          17.22222222,
          16.11111111,
          16.66666667,
          16.66666667,
          16.11111111,
          16.66666667,
          15.55555556,
          14.44444444,
          16.66666667,
          16.66666667,
          16.66666667,
          17.22222222,
          17.77777778,
          17.77777778,
          17.77777778,
          16.66666667,
          18.33333333,
          19.44444444,
          18.88888889,
          18.33333333,
          20,
          18.88888889,
          18.88888889,
          17.77777778,
          20,
          20,
          18.88888889,
          20,
          22.22222222,
          20,
          21.11111111,
          22.22222222,
          22.77777778,
          23.33333333,
          23.33333333,
          22.22222222,
          22.22222222,
          22.77777778,
          23.33333333,
          23.33333333,
          23.88888889,
          23.33333333,
          23.33333333,
          23.33333333,
          23.33333333,
          24.44444444,
          24.44444444,
          23.33333333,
          24.44444444,
          22.22222222,
          23.33333333,
          24.44444444,
          24.44444444,
          26.11111111,
          24.44444444,
          22.22222222,
          21.11111111,
          22.77777778,
          23.33333333,
          22.22222222,
          25,
          21.11111111,
          21.11111111,
          22.22222222,
          20.55555556,
          22.22222222,
          22.77777778,
          23.33333333,
          25.55555556,
          23.33333333,
          23.33333333,
          23.33333333,
          22.77777778,
          22.77777778,
          24.44444444,
          22.22222222,
          23.33333333,
          23.33333333,
          21.11111111,
          23.33333333,
          26.66666667,
          24.44444444,
          24.44444444,
          25.55555556,
          26.66666667,
          25.55555556,
          28.33333333,
          28.88888889,
          27.77777778,
          28.33333333,
          26.66666667,
          24.44444444,
          23.33333333,
          25,
          24.44444444,
          25,
          25.55555556,
          26.66666667,
          24.44444444,
          23.88888889,
          23.88888889,
          27.22222222,
          29.44444444,
          26.11111111,
          26.11111111,
          23.88888889,
          24.44444444,
          23.88888889,
          26.11111111,
          27.77777778,
          28.88888889,
          26.66666667,
          26.11111111,
          27.77777778,
          28.88888889,
          27.22222222,
          26.11111111,
          24.44444444,
          23.88888889,
          25,
          27.22222222,
          28.33333333,
          27.77777778,
          28.88888889,
          28.88888889,
          28.33333333,
          28.88888889,
          27.22222222,
          27.77777778,
          28.88888889,
          28.33333333,
          27.77777778,
          27.77777778,
          28.33333333,
          28.88888889,
          28.33333333,
          27.77777778,
          30,
          28.33333333,
          27.77777778,
          26.11111111,
          25,
          26.66666667,
          28.88888889,
          28.88888889,
          28.33333333,
          28.88888889,
          28.88888889,
          28.88888889,
          28.88888889,
          27.77777778,
          26.66666667,
          27.77777778,
          27.77777778,
          27.77777778,
          27.77777778,
          27.77777778,
          28.88888889,
          27.22222222,
          28.88888889,
          28.88888889,
          28.88888889,
          28.33333333,
          28.88888889,
          30.55555556,
          30.55555556,
          30,
          28.33333333,
          31.11111111,
          29.44444444,
          28.88888889,
          28.88888889,
          27.77777778,
          27.77777778,
          28.33333333,
          27.77777778,
          30,
          31.11111111,
          31.11111111,
          30,
          28.88888889,
          28.33333333,
          30.55555556,
          30.55555556,
          29.44444444,
          28.88888889,
          28.88888889,
          28.88888889,
          30.55555556,
          30,
          30,
          30.55555556,
          30,
          27.77777778,
          27.77777778,
          27.77777778,
          27.22222222,
          28.88888889,
          29.44444444,
          30,
          29.44444444,
          30.55555556,
          31.11111111,
          30.55555556,
          30.55555556,
          26.66666667,
          27.22222222,
          30,
          31.11111111,
          28.88888889,
          26.66666667,
          28.88888889,
          27.77777778,
          26.11111111,
          27.77777778,
          27.77777778,
          25.55555556,
          27.22222222,
          26.66666667,
          27.22222222,
          27.77777778,
          27.77777778,
          27.77777778,
          26.66666667,
          26.66666667,
          27.77777778,
          27.77777778,
          27.77777778,
          26.66666667,
          27.77777778,
          27.77777778,
          27.77777778,
          26.66666667,
          26.66666667,
          26.66666667,
          27.77777778,
          26.66666667,
          25.55555556,
          26.66666667,
          27.77777778,
          27.77777778,
          26.66666667,
          25.55555556,
          27.22222222,
          27.77777778,
          27.77777778,
          28.88888889,
          29.44444444,
          30,
          26.11111111,
          26.66666667,
          27.77777778,
          26.66666667,
          27.77777778,
          27.77777778,
          26.66666667,
          26.66666667,
          26.66666667,
          25.55555556,
          25.55555556,
          24.44444444,
          24.44444444,
          25.55555556,
          24.44444444,
          25,
          25,
          25.55555556,
          25.55555556,
          25.55555556,
          25.55555556,
          24.44444444,
          24.44444444,
          24.44444444,
          25.55555556,
          23.88888889,
          23.88888889,
          23.33333333,
          21.11111111,
          22.77777778,
          23.33333333,
          23.33333333,
          22.22222222,
          22.22222222,
          22.22222222,
          21.66666667,
          22.22222222,
          21.11111111,
          22.22222222,
          22.22222222,
          22.77777778,
          21.11111111,
          23.33333333,
          21.66666667,
          21.11111111,
          21.11111111,
          21.11111111,
          21.11111111,
          20.55555556,
          20,
          20,
          20,
          20,
          20,
          18.88888889,
          18.88888889,
          21.11111111,
          19.44444444,
          20,
          20,
          20,
          19.44444444,
          20,
          20,
          18.88888889,
          20,
          20,
          18.88888889,
          20,
          20,
          18.88888889,
          18.88888889,
          18.33333333,
          17.77777778,
          17.77777778,
          17.77777778,
          17.77777778,
          16.66666667,
          17.77777778,
          16.66666667,
          18.88888889,
          18.88888889,
          18.33333333,
          16.66666667,
          16.66666667,
          17.77777778,
          18.33333333,
          18.88888889,
          18.88888889,
          18.88888889,
          16.66666667,
          16.66666667,
          17.22222222,
          15,
          14.44444444,
          12.22222222,
          13.88888889,
          15,
          15.55555556,
          17.77777778,
          16.66666667,
          16.66666667,
          16.66666667,
          16.66666667,
          16.66666667,
          17.22222222,
          18.88888889,
          18.88888889,
          18.88888889,
          18.88888889,
          17.22222222,
          17.77777778,
          18.33333333,
          17.22222222,
          16.11111111,
          18.33333333,
          17.22222222,
          17.22222222,
          17.22222222,
          17.22222222,
          16.66666667,
          15.55555556,
          16.11111111,
          16.66666667,
          17.22222222,
          16.66666667,
          17.77777778,
          20,
          15.55555556,
          17.22222222,
          15.55555556,
          16.66666667,
          17.22222222,
          15.55555556,
          15.55555556,
          15,
          17.22222222,
          17.77777778,
          18.88888889,
          18.88888889,
          18.88888889,
          17.77777778,
          18.88888889,
          16.66666667,
          18.88888889,
          19.44444444,
          16.66666667,
          20,
          20,
          22.77777778,
          23.33333333,
          23.88888889,
          21.66666667,
          22.22222222,
          22.22222222,
          22.77777778,
          22.22222222,
          22.22222222,
          21.11111111,
          22.22222222,
          22.22222222,
          22.22222222,
          23.33333333,
          26.11111111,
          20.55555556,
          12.22222222,
          21.66666667,
          24.44444444,
          24.44444444,
          23.33333333,
          23.33333333,
          22.22222222,
          23.33333333,
          24.44444444,
          25.55555556,
          25.55555556,
          27.77777778,
          26.66666667,
          28.33333333,
          28.88888889,
          30.55555556,
          28.88888889,
          28.88888889,
          27.22222222,
          25.55555556,
          25.55555556,
          26.66666667,
          26.66666667,
          25.55555556,
          26.66666667,
          24.44444444,
          25.55555556,
          25.55555556,
          25.55555556,
          24.44444444,
          26.66666667,
          27.22222222,
          27.77777778,
          21.11111111,
          23.33333333,
          26.11111111,
          26.66666667,
          26.11111111,
          27.22222222,
          25.55555556,
          25.55555556,
          26.66666667,
          23.88888889,
          26.66666667,
          27.77777778,
          25,
          24.44444444,
          24.44444444,
          26.66666667,
          25.55555556,
          24.44444444,
          25,
          27.22222222,
          25.55555556,
          24.44444444,
          26.66666667,
          25.55555556,
          22.22222222,
          25,
          26.66666667,
          27.22222222,
          27.77777778,
          27.77777778,
          26.11111111,
          27.77777778,
          26.66666667,
          26.66666667,
          23.88888889,
          24.44444444,
          23.33333333,
          25.55555556,
          24.44444444,
          25.55555556,
          26.66666667
         ]
        },
        {
         "marker": {
          "color": "rgba(16, 0, 200, 1)"
         },
         "mode": "markers",
         "name": "Bombing temperature",
         "type": "scatter",
         "x": [
          "1944-08-02T00:00:00",
          "1943-09-20T00:00:00",
          "1943-09-24T00:00:00",
          "1943-09-24T00:00:00",
          "1944-08-17T00:00:00",
          "1944-08-18T00:00:00",
          "1944-08-18T00:00:00",
          "1944-08-18T00:00:00",
          "1944-08-29T00:00:00",
          "1944-09-06T00:00:00",
          "1944-09-08T00:00:00",
          "1944-09-12T00:00:00",
          "1944-09-12T00:00:00",
          "1944-09-17T00:00:00",
          "1944-09-27T00:00:00",
          "1943-08-01T00:00:00",
          "1943-08-01T00:00:00",
          "1943-08-01T00:00:00",
          "1943-08-01T00:00:00"
         ],
         "y": [
          28.88888889,
          31.66666667,
          26.66666667,
          26.66666667,
          30.55555556,
          31.11111111,
          31.11111111,
          31.11111111,
          26.11111111,
          27.77777778,
          26.66666667,
          27.77777778,
          27.77777778,
          26.66666667,
          25.55555556,
          27.22222222,
          27.22222222,
          27.22222222,
          27.22222222
         ]
        }
       ],
       "layout": {
        "template": {
         "data": {
          "bar": [
           {
            "error_x": {
             "color": "#2a3f5f"
            },
            "error_y": {
             "color": "#2a3f5f"
            },
            "marker": {
             "line": {
              "color": "#E5ECF6",
              "width": 0.5
             }
            },
            "type": "bar"
           }
          ],
          "barpolar": [
           {
            "marker": {
             "line": {
              "color": "#E5ECF6",
              "width": 0.5
             }
            },
            "type": "barpolar"
           }
          ],
          "carpet": [
           {
            "aaxis": {
             "endlinecolor": "#2a3f5f",
             "gridcolor": "white",
             "linecolor": "white",
             "minorgridcolor": "white",
             "startlinecolor": "#2a3f5f"
            },
            "baxis": {
             "endlinecolor": "#2a3f5f",
             "gridcolor": "white",
             "linecolor": "white",
             "minorgridcolor": "white",
             "startlinecolor": "#2a3f5f"
            },
            "type": "carpet"
           }
          ],
          "choropleth": [
           {
            "colorbar": {
             "outlinewidth": 0,
             "ticks": ""
            },
            "type": "choropleth"
           }
          ],
          "contour": [
           {
            "colorbar": {
             "outlinewidth": 0,
             "ticks": ""
            },
            "colorscale": [
             [
              0,
              "#0d0887"
             ],
             [
              0.1111111111111111,
              "#46039f"
             ],
             [
              0.2222222222222222,
              "#7201a8"
             ],
             [
              0.3333333333333333,
              "#9c179e"
             ],
             [
              0.4444444444444444,
              "#bd3786"
             ],
             [
              0.5555555555555556,
              "#d8576b"
             ],
             [
              0.6666666666666666,
              "#ed7953"
             ],
             [
              0.7777777777777778,
              "#fb9f3a"
             ],
             [
              0.8888888888888888,
              "#fdca26"
             ],
             [
              1,
              "#f0f921"
             ]
            ],
            "type": "contour"
           }
          ],
          "contourcarpet": [
           {
            "colorbar": {
             "outlinewidth": 0,
             "ticks": ""
            },
            "type": "contourcarpet"
           }
          ],
          "heatmap": [
           {
            "colorbar": {
             "outlinewidth": 0,
             "ticks": ""
            },
            "colorscale": [
             [
              0,
              "#0d0887"
             ],
             [
              0.1111111111111111,
              "#46039f"
             ],
             [
              0.2222222222222222,
              "#7201a8"
             ],
             [
              0.3333333333333333,
              "#9c179e"
             ],
             [
              0.4444444444444444,
              "#bd3786"
             ],
             [
              0.5555555555555556,
              "#d8576b"
             ],
             [
              0.6666666666666666,
              "#ed7953"
             ],
             [
              0.7777777777777778,
              "#fb9f3a"
             ],
             [
              0.8888888888888888,
              "#fdca26"
             ],
             [
              1,
              "#f0f921"
             ]
            ],
            "type": "heatmap"
           }
          ],
          "heatmapgl": [
           {
            "colorbar": {
             "outlinewidth": 0,
             "ticks": ""
            },
            "colorscale": [
             [
              0,
              "#0d0887"
             ],
             [
              0.1111111111111111,
              "#46039f"
             ],
             [
              0.2222222222222222,
              "#7201a8"
             ],
             [
              0.3333333333333333,
              "#9c179e"
             ],
             [
              0.4444444444444444,
              "#bd3786"
             ],
             [
              0.5555555555555556,
              "#d8576b"
             ],
             [
              0.6666666666666666,
              "#ed7953"
             ],
             [
              0.7777777777777778,
              "#fb9f3a"
             ],
             [
              0.8888888888888888,
              "#fdca26"
             ],
             [
              1,
              "#f0f921"
             ]
            ],
            "type": "heatmapgl"
           }
          ],
          "histogram": [
           {
            "marker": {
             "colorbar": {
              "outlinewidth": 0,
              "ticks": ""
             }
            },
            "type": "histogram"
           }
          ],
          "histogram2d": [
           {
            "colorbar": {
             "outlinewidth": 0,
             "ticks": ""
            },
            "colorscale": [
             [
              0,
              "#0d0887"
             ],
             [
              0.1111111111111111,
              "#46039f"
             ],
             [
              0.2222222222222222,
              "#7201a8"
             ],
             [
              0.3333333333333333,
              "#9c179e"
             ],
             [
              0.4444444444444444,
              "#bd3786"
             ],
             [
              0.5555555555555556,
              "#d8576b"
             ],
             [
              0.6666666666666666,
              "#ed7953"
             ],
             [
              0.7777777777777778,
              "#fb9f3a"
             ],
             [
              0.8888888888888888,
              "#fdca26"
             ],
             [
              1,
              "#f0f921"
             ]
            ],
            "type": "histogram2d"
           }
          ],
          "histogram2dcontour": [
           {
            "colorbar": {
             "outlinewidth": 0,
             "ticks": ""
            },
            "colorscale": [
             [
              0,
              "#0d0887"
             ],
             [
              0.1111111111111111,
              "#46039f"
             ],
             [
              0.2222222222222222,
              "#7201a8"
             ],
             [
              0.3333333333333333,
              "#9c179e"
             ],
             [
              0.4444444444444444,
              "#bd3786"
             ],
             [
              0.5555555555555556,
              "#d8576b"
             ],
             [
              0.6666666666666666,
              "#ed7953"
             ],
             [
              0.7777777777777778,
              "#fb9f3a"
             ],
             [
              0.8888888888888888,
              "#fdca26"
             ],
             [
              1,
              "#f0f921"
             ]
            ],
            "type": "histogram2dcontour"
           }
          ],
          "mesh3d": [
           {
            "colorbar": {
             "outlinewidth": 0,
             "ticks": ""
            },
            "type": "mesh3d"
           }
          ],
          "parcoords": [
           {
            "line": {
             "colorbar": {
              "outlinewidth": 0,
              "ticks": ""
             }
            },
            "type": "parcoords"
           }
          ],
          "pie": [
           {
            "automargin": true,
            "type": "pie"
           }
          ],
          "scatter": [
           {
            "marker": {
             "colorbar": {
              "outlinewidth": 0,
              "ticks": ""
             }
            },
            "type": "scatter"
           }
          ],
          "scatter3d": [
           {
            "line": {
             "colorbar": {
              "outlinewidth": 0,
              "ticks": ""
             }
            },
            "marker": {
             "colorbar": {
              "outlinewidth": 0,
              "ticks": ""
             }
            },
            "type": "scatter3d"
           }
          ],
          "scattercarpet": [
           {
            "marker": {
             "colorbar": {
              "outlinewidth": 0,
              "ticks": ""
             }
            },
            "type": "scattercarpet"
           }
          ],
          "scattergeo": [
           {
            "marker": {
             "colorbar": {
              "outlinewidth": 0,
              "ticks": ""
             }
            },
            "type": "scattergeo"
           }
          ],
          "scattergl": [
           {
            "marker": {
             "colorbar": {
              "outlinewidth": 0,
              "ticks": ""
             }
            },
            "type": "scattergl"
           }
          ],
          "scattermapbox": [
           {
            "marker": {
             "colorbar": {
              "outlinewidth": 0,
              "ticks": ""
             }
            },
            "type": "scattermapbox"
           }
          ],
          "scatterpolar": [
           {
            "marker": {
             "colorbar": {
              "outlinewidth": 0,
              "ticks": ""
             }
            },
            "type": "scatterpolar"
           }
          ],
          "scatterpolargl": [
           {
            "marker": {
             "colorbar": {
              "outlinewidth": 0,
              "ticks": ""
             }
            },
            "type": "scatterpolargl"
           }
          ],
          "scatterternary": [
           {
            "marker": {
             "colorbar": {
              "outlinewidth": 0,
              "ticks": ""
             }
            },
            "type": "scatterternary"
           }
          ],
          "surface": [
           {
            "colorbar": {
             "outlinewidth": 0,
             "ticks": ""
            },
            "colorscale": [
             [
              0,
              "#0d0887"
             ],
             [
              0.1111111111111111,
              "#46039f"
             ],
             [
              0.2222222222222222,
              "#7201a8"
             ],
             [
              0.3333333333333333,
              "#9c179e"
             ],
             [
              0.4444444444444444,
              "#bd3786"
             ],
             [
              0.5555555555555556,
              "#d8576b"
             ],
             [
              0.6666666666666666,
              "#ed7953"
             ],
             [
              0.7777777777777778,
              "#fb9f3a"
             ],
             [
              0.8888888888888888,
              "#fdca26"
             ],
             [
              1,
              "#f0f921"
             ]
            ],
            "type": "surface"
           }
          ],
          "table": [
           {
            "cells": {
             "fill": {
              "color": "#EBF0F8"
             },
             "line": {
              "color": "white"
             }
            },
            "header": {
             "fill": {
              "color": "#C8D4E3"
             },
             "line": {
              "color": "white"
             }
            },
            "type": "table"
           }
          ]
         },
         "layout": {
          "annotationdefaults": {
           "arrowcolor": "#2a3f5f",
           "arrowhead": 0,
           "arrowwidth": 1
          },
          "autotypenumbers": "strict",
          "coloraxis": {
           "colorbar": {
            "outlinewidth": 0,
            "ticks": ""
           }
          },
          "colorscale": {
           "diverging": [
            [
             0,
             "#8e0152"
            ],
            [
             0.1,
             "#c51b7d"
            ],
            [
             0.2,
             "#de77ae"
            ],
            [
             0.3,
             "#f1b6da"
            ],
            [
             0.4,
             "#fde0ef"
            ],
            [
             0.5,
             "#f7f7f7"
            ],
            [
             0.6,
             "#e6f5d0"
            ],
            [
             0.7,
             "#b8e186"
            ],
            [
             0.8,
             "#7fbc41"
            ],
            [
             0.9,
             "#4d9221"
            ],
            [
             1,
             "#276419"
            ]
           ],
           "sequential": [
            [
             0,
             "#0d0887"
            ],
            [
             0.1111111111111111,
             "#46039f"
            ],
            [
             0.2222222222222222,
             "#7201a8"
            ],
            [
             0.3333333333333333,
             "#9c179e"
            ],
            [
             0.4444444444444444,
             "#bd3786"
            ],
            [
             0.5555555555555556,
             "#d8576b"
            ],
            [
             0.6666666666666666,
             "#ed7953"
            ],
            [
             0.7777777777777778,
             "#fb9f3a"
            ],
            [
             0.8888888888888888,
             "#fdca26"
            ],
            [
             1,
             "#f0f921"
            ]
           ],
           "sequentialminus": [
            [
             0,
             "#0d0887"
            ],
            [
             0.1111111111111111,
             "#46039f"
            ],
            [
             0.2222222222222222,
             "#7201a8"
            ],
            [
             0.3333333333333333,
             "#9c179e"
            ],
            [
             0.4444444444444444,
             "#bd3786"
            ],
            [
             0.5555555555555556,
             "#d8576b"
            ],
            [
             0.6666666666666666,
             "#ed7953"
            ],
            [
             0.7777777777777778,
             "#fb9f3a"
            ],
            [
             0.8888888888888888,
             "#fdca26"
            ],
            [
             1,
             "#f0f921"
            ]
           ]
          },
          "colorway": [
           "#636efa",
           "#EF553B",
           "#00cc96",
           "#ab63fa",
           "#FFA15A",
           "#19d3f3",
           "#FF6692",
           "#B6E880",
           "#FF97FF",
           "#FECB52"
          ],
          "font": {
           "color": "#2a3f5f"
          },
          "geo": {
           "bgcolor": "white",
           "lakecolor": "white",
           "landcolor": "#E5ECF6",
           "showlakes": true,
           "showland": true,
           "subunitcolor": "white"
          },
          "hoverlabel": {
           "align": "left"
          },
          "hovermode": "closest",
          "mapbox": {
           "style": "light"
          },
          "paper_bgcolor": "white",
          "plot_bgcolor": "#E5ECF6",
          "polar": {
           "angularaxis": {
            "gridcolor": "white",
            "linecolor": "white",
            "ticks": ""
           },
           "bgcolor": "#E5ECF6",
           "radialaxis": {
            "gridcolor": "white",
            "linecolor": "white",
            "ticks": ""
           }
          },
          "scene": {
           "xaxis": {
            "backgroundcolor": "#E5ECF6",
            "gridcolor": "white",
            "gridwidth": 2,
            "linecolor": "white",
            "showbackground": true,
            "ticks": "",
            "zerolinecolor": "white"
           },
           "yaxis": {
            "backgroundcolor": "#E5ECF6",
            "gridcolor": "white",
            "gridwidth": 2,
            "linecolor": "white",
            "showbackground": true,
            "ticks": "",
            "zerolinecolor": "white"
           },
           "zaxis": {
            "backgroundcolor": "#E5ECF6",
            "gridcolor": "white",
            "gridwidth": 2,
            "linecolor": "white",
            "showbackground": true,
            "ticks": "",
            "zerolinecolor": "white"
           }
          },
          "shapedefaults": {
           "line": {
            "color": "#2a3f5f"
           }
          },
          "ternary": {
           "aaxis": {
            "gridcolor": "white",
            "linecolor": "white",
            "ticks": ""
           },
           "baxis": {
            "gridcolor": "white",
            "linecolor": "white",
            "ticks": ""
           },
           "bgcolor": "#E5ECF6",
           "caxis": {
            "gridcolor": "white",
            "linecolor": "white",
            "ticks": ""
           }
          },
          "title": {
           "x": 0.05
          },
          "xaxis": {
           "automargin": true,
           "gridcolor": "white",
           "linecolor": "white",
           "ticks": "",
           "title": {
            "standoff": 15
           },
           "zerolinecolor": "white",
           "zerolinewidth": 2
          },
          "yaxis": {
           "automargin": true,
           "gridcolor": "white",
           "linecolor": "white",
           "ticks": "",
           "title": {
            "standoff": 15
           },
           "zerolinecolor": "white",
           "zerolinewidth": 2
          }
         }
        },
        "title": {
         "text": "Mean Temperature --- Bombing Dates and Mean Temperature at this Date"
        }
       }
      },
      "text/html": [
       "<div>                            <div id=\"ec60d407-39f3-4f51-b4de-e9b457339476\" class=\"plotly-graph-div\" style=\"height:525px; width:100%;\"></div>            <script type=\"text/javascript\">                require([\"plotly\"], function(Plotly) {                    window.PLOTLYENV=window.PLOTLYENV || {};                                    if (document.getElementById(\"ec60d407-39f3-4f51-b4de-e9b457339476\")) {                    Plotly.newPlot(                        \"ec60d407-39f3-4f51-b4de-e9b457339476\",                        [{\"marker\": {\"color\": \"rgba(16, 112, 2, 0.8)\"}, \"mode\": \"lines\", \"name\": \"Mean Temperature\", \"type\": \"scatter\", \"x\": [\"1943-05-11T00:00:00\", \"1943-05-12T00:00:00\", \"1943-05-13T00:00:00\", \"1943-05-14T00:00:00\", \"1943-05-15T00:00:00\", \"1943-05-16T00:00:00\", \"1943-05-17T00:00:00\", \"1943-05-18T00:00:00\", \"1943-05-19T00:00:00\", \"1943-05-20T00:00:00\", \"1943-05-21T00:00:00\", \"1943-05-22T00:00:00\", \"1943-05-23T00:00:00\", \"1943-05-24T00:00:00\", \"1943-05-25T00:00:00\", \"1943-05-26T00:00:00\", \"1943-05-27T00:00:00\", \"1943-05-28T00:00:00\", \"1943-05-29T00:00:00\", \"1943-05-30T00:00:00\", \"1943-05-31T00:00:00\", \"1943-06-01T00:00:00\", \"1943-06-02T00:00:00\", \"1943-06-03T00:00:00\", \"1943-06-04T00:00:00\", \"1943-06-05T00:00:00\", \"1943-06-06T00:00:00\", \"1943-06-07T00:00:00\", \"1943-06-08T00:00:00\", \"1943-06-09T00:00:00\", \"1943-06-10T00:00:00\", \"1943-06-11T00:00:00\", \"1943-06-12T00:00:00\", \"1943-06-13T00:00:00\", \"1943-06-14T00:00:00\", \"1943-06-15T00:00:00\", \"1943-06-16T00:00:00\", \"1943-06-17T00:00:00\", \"1943-06-18T00:00:00\", \"1943-06-19T00:00:00\", \"1943-06-20T00:00:00\", \"1943-06-21T00:00:00\", \"1943-06-22T00:00:00\", \"1943-06-23T00:00:00\", \"1943-06-24T00:00:00\", \"1943-06-25T00:00:00\", \"1943-06-26T00:00:00\", \"1943-06-27T00:00:00\", \"1943-06-28T00:00:00\", \"1943-06-29T00:00:00\", \"1943-06-30T00:00:00\", \"1943-07-01T00:00:00\", \"1943-07-02T00:00:00\", \"1943-07-03T00:00:00\", \"1943-07-04T00:00:00\", \"1943-07-05T00:00:00\", \"1943-07-06T00:00:00\", \"1943-07-07T00:00:00\", \"1943-07-08T00:00:00\", \"1943-07-09T00:00:00\", \"1943-07-10T00:00:00\", \"1943-07-11T00:00:00\", \"1943-07-12T00:00:00\", \"1943-07-13T00:00:00\", \"1943-07-14T00:00:00\", \"1943-07-15T00:00:00\", \"1943-07-16T00:00:00\", \"1943-07-17T00:00:00\", \"1943-07-18T00:00:00\", \"1943-07-19T00:00:00\", \"1943-07-20T00:00:00\", \"1943-07-21T00:00:00\", \"1943-07-22T00:00:00\", \"1943-07-23T00:00:00\", \"1943-07-24T00:00:00\", \"1943-07-25T00:00:00\", \"1943-07-26T00:00:00\", \"1943-07-27T00:00:00\", \"1943-07-28T00:00:00\", \"1943-07-29T00:00:00\", \"1943-07-30T00:00:00\", \"1943-07-31T00:00:00\", \"1943-08-01T00:00:00\", \"1943-08-02T00:00:00\", \"1943-08-03T00:00:00\", \"1943-08-04T00:00:00\", \"1943-08-05T00:00:00\", \"1943-08-06T00:00:00\", \"1943-08-07T00:00:00\", \"1943-08-08T00:00:00\", \"1943-08-09T00:00:00\", \"1943-08-10T00:00:00\", \"1943-08-11T00:00:00\", \"1943-08-12T00:00:00\", \"1943-08-13T00:00:00\", \"1943-08-14T00:00:00\", \"1943-08-15T00:00:00\", \"1943-08-16T00:00:00\", \"1943-08-17T00:00:00\", \"1943-08-18T00:00:00\", \"1943-08-19T00:00:00\", \"1943-08-20T00:00:00\", \"1943-08-21T00:00:00\", \"1943-08-22T00:00:00\", \"1943-08-23T00:00:00\", \"1943-08-24T00:00:00\", \"1943-08-25T00:00:00\", \"1943-08-26T00:00:00\", \"1943-08-27T00:00:00\", \"1943-08-28T00:00:00\", \"1943-08-29T00:00:00\", \"1943-08-30T00:00:00\", \"1943-08-31T00:00:00\", \"1943-09-01T00:00:00\", \"1943-09-02T00:00:00\", \"1943-09-03T00:00:00\", \"1943-09-04T00:00:00\", \"1943-09-05T00:00:00\", \"1943-09-06T00:00:00\", \"1943-09-07T00:00:00\", \"1943-09-08T00:00:00\", \"1943-09-09T00:00:00\", \"1943-09-10T00:00:00\", \"1943-09-11T00:00:00\", \"1943-09-12T00:00:00\", \"1943-09-13T00:00:00\", \"1943-09-14T00:00:00\", \"1943-09-15T00:00:00\", \"1943-09-16T00:00:00\", \"1943-09-17T00:00:00\", \"1943-09-18T00:00:00\", \"1943-09-19T00:00:00\", \"1943-09-20T00:00:00\", \"1943-09-21T00:00:00\", \"1943-09-22T00:00:00\", \"1943-09-23T00:00:00\", \"1943-09-24T00:00:00\", \"1943-09-25T00:00:00\", \"1943-09-26T00:00:00\", \"1943-09-27T00:00:00\", \"1943-09-28T00:00:00\", \"1943-09-29T00:00:00\", \"1943-09-30T00:00:00\", \"1943-10-01T00:00:00\", \"1943-10-02T00:00:00\", \"1943-10-03T00:00:00\", \"1943-10-04T00:00:00\", \"1943-10-05T00:00:00\", \"1943-10-06T00:00:00\", \"1943-10-07T00:00:00\", \"1943-10-08T00:00:00\", \"1943-10-09T00:00:00\", \"1943-10-10T00:00:00\", \"1943-10-11T00:00:00\", \"1943-10-12T00:00:00\", \"1943-10-13T00:00:00\", \"1943-10-14T00:00:00\", \"1943-10-15T00:00:00\", \"1943-10-16T00:00:00\", \"1943-10-17T00:00:00\", \"1943-10-18T00:00:00\", \"1943-10-19T00:00:00\", \"1943-10-20T00:00:00\", \"1943-10-21T00:00:00\", \"1943-10-22T00:00:00\", \"1943-10-23T00:00:00\", \"1943-10-24T00:00:00\", \"1943-10-25T00:00:00\", \"1943-10-26T00:00:00\", \"1943-10-27T00:00:00\", \"1943-10-28T00:00:00\", \"1943-10-29T00:00:00\", \"1943-10-30T00:00:00\", \"1943-10-31T00:00:00\", \"1943-11-01T00:00:00\", \"1943-11-02T00:00:00\", \"1943-11-03T00:00:00\", \"1943-11-04T00:00:00\", \"1943-11-05T00:00:00\", \"1943-11-06T00:00:00\", \"1943-11-07T00:00:00\", \"1943-11-08T00:00:00\", \"1943-11-09T00:00:00\", \"1943-11-10T00:00:00\", \"1943-11-11T00:00:00\", \"1943-11-12T00:00:00\", \"1943-11-13T00:00:00\", \"1943-11-14T00:00:00\", \"1943-11-15T00:00:00\", \"1943-11-16T00:00:00\", \"1943-11-17T00:00:00\", \"1943-11-18T00:00:00\", \"1943-11-19T00:00:00\", \"1943-11-20T00:00:00\", \"1943-11-21T00:00:00\", \"1943-11-22T00:00:00\", \"1943-11-23T00:00:00\", \"1943-11-24T00:00:00\", \"1943-11-25T00:00:00\", \"1943-11-26T00:00:00\", \"1943-11-27T00:00:00\", \"1943-11-28T00:00:00\", \"1943-11-29T00:00:00\", \"1943-11-30T00:00:00\", \"1943-12-01T00:00:00\", \"1943-12-02T00:00:00\", \"1943-12-03T00:00:00\", \"1943-12-04T00:00:00\", \"1943-12-05T00:00:00\", \"1943-12-06T00:00:00\", \"1943-12-07T00:00:00\", \"1943-12-08T00:00:00\", \"1943-12-09T00:00:00\", \"1943-12-10T00:00:00\", \"1943-12-11T00:00:00\", \"1943-12-12T00:00:00\", \"1943-12-13T00:00:00\", \"1943-12-14T00:00:00\", \"1943-12-15T00:00:00\", \"1943-12-16T00:00:00\", \"1943-12-17T00:00:00\", \"1943-12-18T00:00:00\", \"1943-12-19T00:00:00\", \"1943-12-20T00:00:00\", \"1943-12-21T00:00:00\", \"1943-12-22T00:00:00\", \"1943-12-23T00:00:00\", \"1943-12-24T00:00:00\", \"1943-12-25T00:00:00\", \"1943-12-26T00:00:00\", \"1943-12-27T00:00:00\", \"1943-12-28T00:00:00\", \"1943-12-29T00:00:00\", \"1943-12-30T00:00:00\", \"1943-12-31T00:00:00\", \"1944-01-01T00:00:00\", \"1944-01-02T00:00:00\", \"1944-01-03T00:00:00\", \"1944-01-04T00:00:00\", \"1944-01-05T00:00:00\", \"1944-01-06T00:00:00\", \"1944-01-07T00:00:00\", \"1944-01-08T00:00:00\", \"1944-01-09T00:00:00\", \"1944-01-10T00:00:00\", \"1944-01-11T00:00:00\", \"1944-01-12T00:00:00\", \"1944-01-13T00:00:00\", \"1944-01-14T00:00:00\", \"1944-01-15T00:00:00\", \"1944-01-16T00:00:00\", \"1944-01-17T00:00:00\", \"1944-01-18T00:00:00\", \"1944-01-19T00:00:00\", \"1944-01-20T00:00:00\", \"1944-01-21T00:00:00\", \"1944-01-22T00:00:00\", \"1944-01-23T00:00:00\", \"1944-01-24T00:00:00\", \"1944-01-25T00:00:00\", \"1944-01-26T00:00:00\", \"1944-01-27T00:00:00\", \"1944-01-28T00:00:00\", \"1944-01-29T00:00:00\", \"1944-01-30T00:00:00\", \"1944-01-31T00:00:00\", \"1944-02-01T00:00:00\", \"1944-02-02T00:00:00\", \"1944-02-03T00:00:00\", \"1944-02-04T00:00:00\", \"1944-02-05T00:00:00\", \"1944-02-06T00:00:00\", \"1944-02-07T00:00:00\", \"1944-02-08T00:00:00\", \"1944-02-09T00:00:00\", \"1944-02-10T00:00:00\", \"1944-02-11T00:00:00\", \"1944-02-12T00:00:00\", \"1944-02-13T00:00:00\", \"1944-02-14T00:00:00\", \"1944-02-15T00:00:00\", \"1944-02-16T00:00:00\", \"1944-02-17T00:00:00\", \"1944-02-18T00:00:00\", \"1944-02-19T00:00:00\", \"1944-02-20T00:00:00\", \"1944-02-21T00:00:00\", \"1944-02-22T00:00:00\", \"1944-02-23T00:00:00\", \"1944-02-24T00:00:00\", \"1944-02-25T00:00:00\", \"1944-02-26T00:00:00\", \"1944-02-27T00:00:00\", \"1944-02-28T00:00:00\", \"1944-02-29T00:00:00\", \"1944-03-01T00:00:00\", \"1944-03-02T00:00:00\", \"1944-03-03T00:00:00\", \"1944-03-04T00:00:00\", \"1944-03-05T00:00:00\", \"1944-03-06T00:00:00\", \"1944-03-07T00:00:00\", \"1944-03-08T00:00:00\", \"1944-03-09T00:00:00\", \"1944-03-10T00:00:00\", \"1944-03-11T00:00:00\", \"1944-03-12T00:00:00\", \"1944-03-13T00:00:00\", \"1944-03-14T00:00:00\", \"1944-03-15T00:00:00\", \"1944-03-16T00:00:00\", \"1944-03-17T00:00:00\", \"1944-03-18T00:00:00\", \"1944-03-19T00:00:00\", \"1944-03-20T00:00:00\", \"1944-03-21T00:00:00\", \"1944-03-22T00:00:00\", \"1944-03-23T00:00:00\", \"1944-03-24T00:00:00\", \"1944-03-25T00:00:00\", \"1944-03-26T00:00:00\", \"1944-03-27T00:00:00\", \"1944-03-28T00:00:00\", \"1944-03-29T00:00:00\", \"1944-03-30T00:00:00\", \"1944-03-31T00:00:00\", \"1944-04-01T00:00:00\", \"1944-04-02T00:00:00\", \"1944-04-03T00:00:00\", \"1944-04-04T00:00:00\", \"1944-04-05T00:00:00\", \"1944-04-06T00:00:00\", \"1944-04-07T00:00:00\", \"1944-04-08T00:00:00\", \"1944-04-09T00:00:00\", \"1944-04-10T00:00:00\", \"1944-04-11T00:00:00\", \"1944-04-12T00:00:00\", \"1944-04-13T00:00:00\", \"1944-04-14T00:00:00\", \"1944-04-15T00:00:00\", \"1944-04-16T00:00:00\", \"1944-04-17T00:00:00\", \"1944-04-18T00:00:00\", \"1944-04-19T00:00:00\", \"1944-04-20T00:00:00\", \"1944-04-21T00:00:00\", \"1944-04-22T00:00:00\", \"1944-04-23T00:00:00\", \"1944-04-24T00:00:00\", \"1944-04-25T00:00:00\", \"1944-04-26T00:00:00\", \"1944-04-27T00:00:00\", \"1944-04-28T00:00:00\", \"1944-04-29T00:00:00\", \"1944-04-30T00:00:00\", \"1944-05-01T00:00:00\", \"1944-05-02T00:00:00\", \"1944-05-03T00:00:00\", \"1944-05-04T00:00:00\", \"1944-05-05T00:00:00\", \"1944-05-06T00:00:00\", \"1944-05-07T00:00:00\", \"1944-05-08T00:00:00\", \"1944-05-09T00:00:00\", \"1944-05-10T00:00:00\", \"1944-05-11T00:00:00\", \"1944-05-12T00:00:00\", \"1944-05-13T00:00:00\", \"1944-05-14T00:00:00\", \"1944-05-15T00:00:00\", \"1944-05-16T00:00:00\", \"1944-05-17T00:00:00\", \"1944-05-18T00:00:00\", \"1944-05-19T00:00:00\", \"1944-05-20T00:00:00\", \"1944-05-21T00:00:00\", \"1944-05-22T00:00:00\", \"1944-05-23T00:00:00\", \"1944-05-24T00:00:00\", \"1944-05-25T00:00:00\", \"1944-05-26T00:00:00\", \"1944-05-27T00:00:00\", \"1944-05-28T00:00:00\", \"1944-05-29T00:00:00\", \"1944-05-30T00:00:00\", \"1944-05-31T00:00:00\", \"1944-06-01T00:00:00\", \"1944-06-02T00:00:00\", \"1944-06-03T00:00:00\", \"1944-06-04T00:00:00\", \"1944-06-05T00:00:00\", \"1944-06-06T00:00:00\", \"1944-06-07T00:00:00\", \"1944-06-08T00:00:00\", \"1944-06-09T00:00:00\", \"1944-06-10T00:00:00\", \"1944-06-11T00:00:00\", \"1944-06-12T00:00:00\", \"1944-06-13T00:00:00\", \"1944-06-14T00:00:00\", \"1944-06-15T00:00:00\", \"1944-06-16T00:00:00\", \"1944-06-17T00:00:00\", \"1944-06-18T00:00:00\", \"1944-06-19T00:00:00\", \"1944-06-20T00:00:00\", \"1944-06-21T00:00:00\", \"1944-06-22T00:00:00\", \"1944-06-23T00:00:00\", \"1944-06-24T00:00:00\", \"1944-06-25T00:00:00\", \"1944-06-26T00:00:00\", \"1944-06-27T00:00:00\", \"1944-06-28T00:00:00\", \"1944-06-29T00:00:00\", \"1944-06-30T00:00:00\", \"1944-07-01T00:00:00\", \"1944-07-02T00:00:00\", \"1944-07-03T00:00:00\", \"1944-07-04T00:00:00\", \"1944-07-05T00:00:00\", \"1944-07-06T00:00:00\", \"1944-07-07T00:00:00\", \"1944-07-08T00:00:00\", \"1944-07-09T00:00:00\", \"1944-07-10T00:00:00\", \"1944-07-11T00:00:00\", \"1944-07-12T00:00:00\", \"1944-07-13T00:00:00\", \"1944-07-14T00:00:00\", \"1944-07-15T00:00:00\", \"1944-07-16T00:00:00\", \"1944-07-17T00:00:00\", \"1944-07-18T00:00:00\", \"1944-07-19T00:00:00\", \"1944-07-20T00:00:00\", \"1944-07-21T00:00:00\", \"1944-07-22T00:00:00\", \"1944-07-23T00:00:00\", \"1944-07-24T00:00:00\", \"1944-07-25T00:00:00\", \"1944-07-26T00:00:00\", \"1944-07-27T00:00:00\", \"1944-07-28T00:00:00\", \"1944-07-29T00:00:00\", \"1944-07-30T00:00:00\", \"1944-07-31T00:00:00\", \"1944-08-01T00:00:00\", \"1944-08-02T00:00:00\", \"1944-08-03T00:00:00\", \"1944-08-04T00:00:00\", \"1944-08-05T00:00:00\", \"1944-08-06T00:00:00\", \"1944-08-07T00:00:00\", \"1944-08-08T00:00:00\", \"1944-08-09T00:00:00\", \"1944-08-10T00:00:00\", \"1944-08-11T00:00:00\", \"1944-08-12T00:00:00\", \"1944-08-13T00:00:00\", \"1944-08-14T00:00:00\", \"1944-08-15T00:00:00\", \"1944-08-16T00:00:00\", \"1944-08-17T00:00:00\", \"1944-08-18T00:00:00\", \"1944-08-19T00:00:00\", \"1944-08-20T00:00:00\", \"1944-08-21T00:00:00\", \"1944-08-22T00:00:00\", \"1944-08-23T00:00:00\", \"1944-08-24T00:00:00\", \"1944-08-25T00:00:00\", \"1944-08-26T00:00:00\", \"1944-08-27T00:00:00\", \"1944-08-28T00:00:00\", \"1944-08-29T00:00:00\", \"1944-08-30T00:00:00\", \"1944-08-31T00:00:00\", \"1944-09-01T00:00:00\", \"1944-09-02T00:00:00\", \"1944-09-03T00:00:00\", \"1944-09-04T00:00:00\", \"1944-09-05T00:00:00\", \"1944-09-06T00:00:00\", \"1944-09-07T00:00:00\", \"1944-09-08T00:00:00\", \"1944-09-09T00:00:00\", \"1944-09-10T00:00:00\", \"1944-09-11T00:00:00\", \"1944-09-12T00:00:00\", \"1944-09-13T00:00:00\", \"1944-09-14T00:00:00\", \"1944-09-15T00:00:00\", \"1944-09-16T00:00:00\", \"1944-09-17T00:00:00\", \"1944-09-18T00:00:00\", \"1944-09-19T00:00:00\", \"1944-09-20T00:00:00\", \"1944-09-21T00:00:00\", \"1944-09-22T00:00:00\", \"1944-09-23T00:00:00\", \"1944-09-24T00:00:00\", \"1944-09-25T00:00:00\", \"1944-09-26T00:00:00\", \"1944-09-27T00:00:00\", \"1944-09-28T00:00:00\", \"1944-09-29T00:00:00\", \"1944-09-30T00:00:00\", \"1944-10-01T00:00:00\", \"1944-10-02T00:00:00\", \"1944-10-03T00:00:00\", \"1944-10-04T00:00:00\", \"1944-10-05T00:00:00\", \"1944-10-06T00:00:00\", \"1944-10-07T00:00:00\", \"1944-10-08T00:00:00\", \"1944-10-09T00:00:00\", \"1944-10-10T00:00:00\", \"1944-10-11T00:00:00\", \"1944-10-12T00:00:00\", \"1944-10-13T00:00:00\", \"1944-10-14T00:00:00\", \"1944-10-15T00:00:00\", \"1944-10-16T00:00:00\", \"1944-10-17T00:00:00\", \"1944-10-18T00:00:00\", \"1944-10-19T00:00:00\", \"1944-10-20T00:00:00\", \"1944-10-21T00:00:00\", \"1944-10-22T00:00:00\", \"1944-10-23T00:00:00\", \"1944-10-24T00:00:00\", \"1944-10-25T00:00:00\", \"1944-10-26T00:00:00\", \"1944-10-27T00:00:00\", \"1944-10-28T00:00:00\", \"1944-10-29T00:00:00\", \"1944-10-30T00:00:00\", \"1944-10-31T00:00:00\", \"1944-11-01T00:00:00\", \"1944-11-02T00:00:00\", \"1944-11-03T00:00:00\", \"1944-11-04T00:00:00\", \"1944-11-05T00:00:00\", \"1944-11-06T00:00:00\", \"1944-11-07T00:00:00\", \"1944-11-08T00:00:00\", \"1944-11-09T00:00:00\", \"1944-11-10T00:00:00\", \"1944-11-11T00:00:00\", \"1944-11-12T00:00:00\", \"1944-11-13T00:00:00\", \"1944-11-14T00:00:00\", \"1944-11-15T00:00:00\", \"1944-11-16T00:00:00\", \"1944-11-17T00:00:00\", \"1944-11-18T00:00:00\", \"1944-11-19T00:00:00\", \"1944-11-20T00:00:00\", \"1944-11-21T00:00:00\", \"1944-11-22T00:00:00\", \"1944-11-23T00:00:00\", \"1944-11-24T00:00:00\", \"1944-11-25T00:00:00\", \"1944-11-26T00:00:00\", \"1944-11-27T00:00:00\", \"1944-11-28T00:00:00\", \"1944-11-29T00:00:00\", \"1944-11-30T00:00:00\", \"1944-12-02T00:00:00\", \"1944-12-03T00:00:00\", \"1944-12-04T00:00:00\", \"1944-12-05T00:00:00\", \"1944-12-06T00:00:00\", \"1944-12-07T00:00:00\", \"1944-12-08T00:00:00\", \"1944-12-09T00:00:00\", \"1944-12-10T00:00:00\", \"1944-12-11T00:00:00\", \"1944-12-12T00:00:00\", \"1944-12-13T00:00:00\", \"1944-12-14T00:00:00\", \"1944-12-15T00:00:00\", \"1944-12-16T00:00:00\", \"1944-12-17T00:00:00\", \"1944-12-18T00:00:00\", \"1944-12-19T00:00:00\", \"1944-12-20T00:00:00\", \"1944-12-21T00:00:00\", \"1944-12-22T00:00:00\", \"1944-12-23T00:00:00\", \"1944-12-24T00:00:00\", \"1944-12-25T00:00:00\", \"1944-12-26T00:00:00\", \"1944-12-27T00:00:00\", \"1944-12-28T00:00:00\", \"1944-12-29T00:00:00\", \"1944-12-30T00:00:00\", \"1944-12-31T00:00:00\", \"1945-01-01T00:00:00\", \"1945-01-02T00:00:00\", \"1945-01-03T00:00:00\", \"1945-01-04T00:00:00\", \"1945-01-05T00:00:00\", \"1945-01-06T00:00:00\", \"1945-01-07T00:00:00\", \"1945-01-08T00:00:00\", \"1945-01-09T00:00:00\", \"1945-01-10T00:00:00\", \"1945-01-11T00:00:00\", \"1945-01-12T00:00:00\", \"1945-01-13T00:00:00\", \"1945-01-14T00:00:00\", \"1945-01-15T00:00:00\", \"1945-01-16T00:00:00\", \"1945-01-17T00:00:00\", \"1945-01-18T00:00:00\", \"1945-01-19T00:00:00\", \"1945-01-20T00:00:00\", \"1945-01-21T00:00:00\", \"1945-01-22T00:00:00\", \"1945-01-23T00:00:00\", \"1945-01-24T00:00:00\", \"1945-01-25T00:00:00\", \"1945-01-26T00:00:00\", \"1945-01-27T00:00:00\", \"1945-01-28T00:00:00\", \"1945-01-29T00:00:00\", \"1945-01-30T00:00:00\", \"1945-01-31T00:00:00\", \"1945-02-01T00:00:00\", \"1945-02-02T00:00:00\", \"1945-02-03T00:00:00\", \"1945-02-04T00:00:00\", \"1945-02-05T00:00:00\", \"1945-02-06T00:00:00\", \"1945-02-07T00:00:00\", \"1945-02-08T00:00:00\", \"1945-02-09T00:00:00\", \"1945-02-10T00:00:00\", \"1945-02-11T00:00:00\", \"1945-02-12T00:00:00\", \"1945-02-13T00:00:00\", \"1945-02-14T00:00:00\", \"1945-02-15T00:00:00\", \"1945-02-16T00:00:00\", \"1945-02-17T00:00:00\", \"1945-02-18T00:00:00\", \"1945-02-19T00:00:00\", \"1945-02-20T00:00:00\", \"1945-02-21T00:00:00\", \"1945-02-22T00:00:00\", \"1945-02-23T00:00:00\", \"1945-02-24T00:00:00\", \"1945-02-25T00:00:00\", \"1945-02-26T00:00:00\", \"1945-02-27T00:00:00\", \"1945-02-28T00:00:00\", \"1945-03-01T00:00:00\", \"1945-03-02T00:00:00\", \"1945-03-03T00:00:00\", \"1945-03-04T00:00:00\", \"1945-03-05T00:00:00\", \"1945-03-06T00:00:00\", \"1945-03-07T00:00:00\", \"1945-03-08T00:00:00\", \"1945-03-09T00:00:00\", \"1945-03-10T00:00:00\", \"1945-03-11T00:00:00\", \"1945-03-12T00:00:00\", \"1945-03-13T00:00:00\", \"1945-03-14T00:00:00\", \"1945-03-15T00:00:00\", \"1945-03-16T00:00:00\", \"1945-03-17T00:00:00\", \"1945-03-18T00:00:00\", \"1945-03-19T00:00:00\", \"1945-03-20T00:00:00\", \"1945-03-21T00:00:00\", \"1945-03-22T00:00:00\", \"1945-03-23T00:00:00\", \"1945-03-24T00:00:00\", \"1945-03-25T00:00:00\", \"1945-03-26T00:00:00\", \"1945-03-27T00:00:00\", \"1945-03-28T00:00:00\", \"1945-03-29T00:00:00\", \"1945-03-30T00:00:00\", \"1945-03-31T00:00:00\", \"1945-04-01T00:00:00\", \"1945-04-02T00:00:00\", \"1945-04-03T00:00:00\", \"1945-04-04T00:00:00\", \"1945-04-05T00:00:00\", \"1945-04-06T00:00:00\", \"1945-04-07T00:00:00\", \"1945-04-08T00:00:00\", \"1945-04-09T00:00:00\", \"1945-04-10T00:00:00\", \"1945-04-11T00:00:00\", \"1945-04-12T00:00:00\", \"1945-04-13T00:00:00\", \"1945-04-14T00:00:00\", \"1945-04-15T00:00:00\", \"1945-04-16T00:00:00\", \"1945-04-17T00:00:00\", \"1945-04-18T00:00:00\", \"1945-04-19T00:00:00\", \"1945-04-20T00:00:00\", \"1945-04-21T00:00:00\", \"1945-04-22T00:00:00\", \"1945-04-23T00:00:00\", \"1945-04-24T00:00:00\", \"1945-04-25T00:00:00\", \"1945-04-26T00:00:00\", \"1945-04-27T00:00:00\", \"1945-04-28T00:00:00\", \"1945-04-29T00:00:00\", \"1945-04-30T00:00:00\", \"1945-05-01T00:00:00\", \"1945-05-02T00:00:00\", \"1945-05-03T00:00:00\", \"1945-05-04T00:00:00\", \"1945-05-05T00:00:00\", \"1945-05-06T00:00:00\", \"1945-05-07T00:00:00\", \"1945-05-08T00:00:00\", \"1945-05-09T00:00:00\", \"1945-05-10T00:00:00\", \"1945-05-11T00:00:00\", \"1945-05-12T00:00:00\", \"1945-05-13T00:00:00\", \"1945-05-14T00:00:00\", \"1945-05-15T00:00:00\", \"1945-05-16T00:00:00\", \"1945-05-17T00:00:00\", \"1945-05-18T00:00:00\", \"1945-05-19T00:00:00\", \"1945-05-20T00:00:00\", \"1945-05-21T00:00:00\", \"1945-05-22T00:00:00\", \"1945-05-23T00:00:00\", \"1945-05-24T00:00:00\", \"1945-05-25T00:00:00\", \"1945-05-26T00:00:00\", \"1945-05-27T00:00:00\", \"1945-05-28T00:00:00\", \"1945-05-29T00:00:00\", \"1945-05-30T00:00:00\", \"1945-05-31T00:00:00\"], \"y\": [28.88888889, 25.55555556, 24.44444444, 23.88888889, 27.77777778, 26.66666667, 24.44444444, 24.44444444, 24.44444444, 24.44444444, 24.44444444, 24.44444444, 25.55555556, 27.22222222, 26.66666667, 25.55555556, 23.33333333, 25.55555556, 27.77777778, 30.0, 28.33333333, 28.33333333, 27.77777778, 27.22222222, 28.88888889, 26.66666667, 26.66666667, 27.77777778, 27.77777778, 26.66666667, 27.77777778, 30.0, 27.77777778, 26.66666667, 28.33333333, 29.44444444, 26.66666667, 27.77777778, 28.88888889, 27.77777778, 28.33333333, 28.33333333, 28.88888889, 28.88888889, 27.77777778, 28.33333333, 28.33333333, 29.44444444, 28.88888889, 28.88888889, 27.77777778, 27.77777778, 28.33333333, 27.77777778, 27.22222222, 27.77777778, 27.77777778, 27.77777778, 28.88888889, 28.88888889, 29.44444444, 31.11111111, 31.11111111, 28.88888889, 28.88888889, 27.77777778, 29.44444444, 29.44444444, 28.88888889, 25.55555556, 28.88888889, 28.88888889, 28.88888889, 30.0, 31.11111111, 30.0, 30.0, 28.88888889, 28.88888889, 28.88888889, 30.0, 28.88888889, 27.22222222, 28.88888889, 28.88888889, 27.77777778, 29.44444444, 28.33333333, 27.22222222, 27.77777778, 26.66666667, 27.77777778, 26.66666667, 28.88888889, 30.0, 26.11111111, 27.77777778, 27.77777778, 28.88888889, 28.88888889, 28.33333333, 29.44444444, 27.77777778, 27.77777778, 28.88888889, 28.88888889, 28.88888889, 26.11111111, 25.55555556, 27.77777778, 28.88888889, 28.88888889, 27.77777778, 30.0, 28.88888889, 28.88888889, 30.0, 28.88888889, 28.33333333, 26.66666667, 28.88888889, 30.55555556, 27.77777778, 23.88888889, 25.55555556, 27.22222222, 28.88888889, 30.0, 30.0, 31.11111111, 30.55555556, 31.11111111, 31.66666667, 30.0, 27.77777778, 30.0, 26.66666667, 26.66666667, 26.66666667, 23.88888889, 24.44444444, 26.11111111, 27.77777778, 28.88888889, 28.88888889, 28.88888889, 27.77777778, 26.66666667, 23.33333333, 26.66666667, 29.44444444, 28.33333333, 27.77777778, 26.11111111, 26.11111111, 26.66666667, 25.55555556, 25.55555556, 25.0, 24.44444444, 25.55555556, 27.77777778, 25.55555556, 26.66666667, 25.55555556, 26.11111111, 24.44444444, 25.55555556, 23.88888889, 23.33333333, 23.33333333, 23.33333333, 23.33333333, 23.33333333, 22.77777778, 24.44444444, 24.44444444, 24.44444444, 25.0, 24.44444444, 23.88888889, 23.88888889, 24.44444444, 23.33333333, 23.33333333, 22.22222222, 22.22222222, 22.22222222, 22.22222222, 21.66666667, 22.22222222, 22.77777778, 22.22222222, 23.88888889, 21.11111111, 23.33333333, 22.77777778, 21.66666667, 22.22222222, 20.55555556, 20.0, 22.22222222, 21.11111111, 20.55555556, 20.0, 20.55555556, 20.0, 18.88888889, 18.88888889, 17.77777778, 16.66666667, 16.66666667, 16.66666667, 16.66666667, 16.66666667, 18.33333333, 17.77777778, 18.88888889, 17.77777778, 17.77777778, 17.77777778, 18.33333333, 17.22222222, 17.77777778, 17.77777778, 17.77777778, 17.77777778, 18.88888889, 18.88888889, 18.88888889, 17.77777778, 19.44444444, 17.22222222, 16.66666667, 17.77777778, 16.66666667, 16.11111111, 16.11111111, 15.55555556, 15.55555556, 12.22222222, 16.66666667, 16.66666667, 16.66666667, 16.66666667, 16.66666667, 17.77777778, 16.66666667, 17.22222222, 16.66666667, 15.55555556, 16.66666667, 16.11111111, 16.11111111, 16.66666667, 15.55555556, 15.55555556, 16.66666667, 17.77777778, 15.55555556, 17.77777778, 15.55555556, 18.88888889, 17.22222222, 16.11111111, 16.66666667, 16.66666667, 16.11111111, 16.66666667, 15.55555556, 14.44444444, 16.66666667, 16.66666667, 16.66666667, 17.22222222, 17.77777778, 17.77777778, 17.77777778, 16.66666667, 18.33333333, 19.44444444, 18.88888889, 18.33333333, 20.0, 18.88888889, 18.88888889, 17.77777778, 20.0, 20.0, 18.88888889, 20.0, 22.22222222, 20.0, 21.11111111, 22.22222222, 22.77777778, 23.33333333, 23.33333333, 22.22222222, 22.22222222, 22.77777778, 23.33333333, 23.33333333, 23.88888889, 23.33333333, 23.33333333, 23.33333333, 23.33333333, 24.44444444, 24.44444444, 23.33333333, 24.44444444, 22.22222222, 23.33333333, 24.44444444, 24.44444444, 26.11111111, 24.44444444, 22.22222222, 21.11111111, 22.77777778, 23.33333333, 22.22222222, 25.0, 21.11111111, 21.11111111, 22.22222222, 20.55555556, 22.22222222, 22.77777778, 23.33333333, 25.55555556, 23.33333333, 23.33333333, 23.33333333, 22.77777778, 22.77777778, 24.44444444, 22.22222222, 23.33333333, 23.33333333, 21.11111111, 23.33333333, 26.66666667, 24.44444444, 24.44444444, 25.55555556, 26.66666667, 25.55555556, 28.33333333, 28.88888889, 27.77777778, 28.33333333, 26.66666667, 24.44444444, 23.33333333, 25.0, 24.44444444, 25.0, 25.55555556, 26.66666667, 24.44444444, 23.88888889, 23.88888889, 27.22222222, 29.44444444, 26.11111111, 26.11111111, 23.88888889, 24.44444444, 23.88888889, 26.11111111, 27.77777778, 28.88888889, 26.66666667, 26.11111111, 27.77777778, 28.88888889, 27.22222222, 26.11111111, 24.44444444, 23.88888889, 25.0, 27.22222222, 28.33333333, 27.77777778, 28.88888889, 28.88888889, 28.33333333, 28.88888889, 27.22222222, 27.77777778, 28.88888889, 28.33333333, 27.77777778, 27.77777778, 28.33333333, 28.88888889, 28.33333333, 27.77777778, 30.0, 28.33333333, 27.77777778, 26.11111111, 25.0, 26.66666667, 28.88888889, 28.88888889, 28.33333333, 28.88888889, 28.88888889, 28.88888889, 28.88888889, 27.77777778, 26.66666667, 27.77777778, 27.77777778, 27.77777778, 27.77777778, 27.77777778, 28.88888889, 27.22222222, 28.88888889, 28.88888889, 28.88888889, 28.33333333, 28.88888889, 30.55555556, 30.55555556, 30.0, 28.33333333, 31.11111111, 29.44444444, 28.88888889, 28.88888889, 27.77777778, 27.77777778, 28.33333333, 27.77777778, 30.0, 31.11111111, 31.11111111, 30.0, 28.88888889, 28.33333333, 30.55555556, 30.55555556, 29.44444444, 28.88888889, 28.88888889, 28.88888889, 30.55555556, 30.0, 30.0, 30.55555556, 30.0, 27.77777778, 27.77777778, 27.77777778, 27.22222222, 28.88888889, 29.44444444, 30.0, 29.44444444, 30.55555556, 31.11111111, 30.55555556, 30.55555556, 26.66666667, 27.22222222, 30.0, 31.11111111, 28.88888889, 26.66666667, 28.88888889, 27.77777778, 26.11111111, 27.77777778, 27.77777778, 25.55555556, 27.22222222, 26.66666667, 27.22222222, 27.77777778, 27.77777778, 27.77777778, 26.66666667, 26.66666667, 27.77777778, 27.77777778, 27.77777778, 26.66666667, 27.77777778, 27.77777778, 27.77777778, 26.66666667, 26.66666667, 26.66666667, 27.77777778, 26.66666667, 25.55555556, 26.66666667, 27.77777778, 27.77777778, 26.66666667, 25.55555556, 27.22222222, 27.77777778, 27.77777778, 28.88888889, 29.44444444, 30.0, 26.11111111, 26.66666667, 27.77777778, 26.66666667, 27.77777778, 27.77777778, 26.66666667, 26.66666667, 26.66666667, 25.55555556, 25.55555556, 24.44444444, 24.44444444, 25.55555556, 24.44444444, 25.0, 25.0, 25.55555556, 25.55555556, 25.55555556, 25.55555556, 24.44444444, 24.44444444, 24.44444444, 25.55555556, 23.88888889, 23.88888889, 23.33333333, 21.11111111, 22.77777778, 23.33333333, 23.33333333, 22.22222222, 22.22222222, 22.22222222, 21.66666667, 22.22222222, 21.11111111, 22.22222222, 22.22222222, 22.77777778, 21.11111111, 23.33333333, 21.66666667, 21.11111111, 21.11111111, 21.11111111, 21.11111111, 20.55555556, 20.0, 20.0, 20.0, 20.0, 20.0, 18.88888889, 18.88888889, 21.11111111, 19.44444444, 20.0, 20.0, 20.0, 19.44444444, 20.0, 20.0, 18.88888889, 20.0, 20.0, 18.88888889, 20.0, 20.0, 18.88888889, 18.88888889, 18.33333333, 17.77777778, 17.77777778, 17.77777778, 17.77777778, 16.66666667, 17.77777778, 16.66666667, 18.88888889, 18.88888889, 18.33333333, 16.66666667, 16.66666667, 17.77777778, 18.33333333, 18.88888889, 18.88888889, 18.88888889, 16.66666667, 16.66666667, 17.22222222, 15.0, 14.44444444, 12.22222222, 13.88888889, 15.0, 15.55555556, 17.77777778, 16.66666667, 16.66666667, 16.66666667, 16.66666667, 16.66666667, 17.22222222, 18.88888889, 18.88888889, 18.88888889, 18.88888889, 17.22222222, 17.77777778, 18.33333333, 17.22222222, 16.11111111, 18.33333333, 17.22222222, 17.22222222, 17.22222222, 17.22222222, 16.66666667, 15.55555556, 16.11111111, 16.66666667, 17.22222222, 16.66666667, 17.77777778, 20.0, 15.55555556, 17.22222222, 15.55555556, 16.66666667, 17.22222222, 15.55555556, 15.55555556, 15.0, 17.22222222, 17.77777778, 18.88888889, 18.88888889, 18.88888889, 17.77777778, 18.88888889, 16.66666667, 18.88888889, 19.44444444, 16.66666667, 20.0, 20.0, 22.77777778, 23.33333333, 23.88888889, 21.66666667, 22.22222222, 22.22222222, 22.77777778, 22.22222222, 22.22222222, 21.11111111, 22.22222222, 22.22222222, 22.22222222, 23.33333333, 26.11111111, 20.55555556, 12.22222222, 21.66666667, 24.44444444, 24.44444444, 23.33333333, 23.33333333, 22.22222222, 23.33333333, 24.44444444, 25.55555556, 25.55555556, 27.77777778, 26.66666667, 28.33333333, 28.88888889, 30.55555556, 28.88888889, 28.88888889, 27.22222222, 25.55555556, 25.55555556, 26.66666667, 26.66666667, 25.55555556, 26.66666667, 24.44444444, 25.55555556, 25.55555556, 25.55555556, 24.44444444, 26.66666667, 27.22222222, 27.77777778, 21.11111111, 23.33333333, 26.11111111, 26.66666667, 26.11111111, 27.22222222, 25.55555556, 25.55555556, 26.66666667, 23.88888889, 26.66666667, 27.77777778, 25.0, 24.44444444, 24.44444444, 26.66666667, 25.55555556, 24.44444444, 25.0, 27.22222222, 25.55555556, 24.44444444, 26.66666667, 25.55555556, 22.22222222, 25.0, 26.66666667, 27.22222222, 27.77777778, 27.77777778, 26.11111111, 27.77777778, 26.66666667, 26.66666667, 23.88888889, 24.44444444, 23.33333333, 25.55555556, 24.44444444, 25.55555556, 26.66666667]}, {\"marker\": {\"color\": \"rgba(16, 0, 200, 1)\"}, \"mode\": \"markers\", \"name\": \"Bombing temperature\", \"type\": \"scatter\", \"x\": [\"1944-08-02T00:00:00\", \"1943-09-20T00:00:00\", \"1943-09-24T00:00:00\", \"1943-09-24T00:00:00\", \"1944-08-17T00:00:00\", \"1944-08-18T00:00:00\", \"1944-08-18T00:00:00\", \"1944-08-18T00:00:00\", \"1944-08-29T00:00:00\", \"1944-09-06T00:00:00\", \"1944-09-08T00:00:00\", \"1944-09-12T00:00:00\", \"1944-09-12T00:00:00\", \"1944-09-17T00:00:00\", \"1944-09-27T00:00:00\", \"1943-08-01T00:00:00\", \"1943-08-01T00:00:00\", \"1943-08-01T00:00:00\", \"1943-08-01T00:00:00\"], \"y\": [28.88888889, 31.66666667, 26.66666667, 26.66666667, 30.55555556, 31.11111111, 31.11111111, 31.11111111, 26.11111111, 27.77777778, 26.66666667, 27.77777778, 27.77777778, 26.66666667, 25.55555556, 27.22222222, 27.22222222, 27.22222222, 27.22222222]}],                        {\"template\": {\"data\": {\"bar\": [{\"error_x\": {\"color\": \"#2a3f5f\"}, \"error_y\": {\"color\": \"#2a3f5f\"}, \"marker\": {\"line\": {\"color\": \"#E5ECF6\", \"width\": 0.5}}, \"type\": \"bar\"}], \"barpolar\": [{\"marker\": {\"line\": {\"color\": \"#E5ECF6\", \"width\": 0.5}}, \"type\": \"barpolar\"}], \"carpet\": [{\"aaxis\": {\"endlinecolor\": \"#2a3f5f\", \"gridcolor\": \"white\", \"linecolor\": \"white\", \"minorgridcolor\": \"white\", \"startlinecolor\": \"#2a3f5f\"}, \"baxis\": {\"endlinecolor\": \"#2a3f5f\", \"gridcolor\": \"white\", \"linecolor\": \"white\", \"minorgridcolor\": \"white\", \"startlinecolor\": \"#2a3f5f\"}, \"type\": \"carpet\"}], \"choropleth\": [{\"colorbar\": {\"outlinewidth\": 0, \"ticks\": \"\"}, \"type\": \"choropleth\"}], \"contour\": [{\"colorbar\": {\"outlinewidth\": 0, \"ticks\": \"\"}, \"colorscale\": [[0.0, \"#0d0887\"], [0.1111111111111111, \"#46039f\"], [0.2222222222222222, \"#7201a8\"], [0.3333333333333333, \"#9c179e\"], [0.4444444444444444, \"#bd3786\"], [0.5555555555555556, \"#d8576b\"], [0.6666666666666666, \"#ed7953\"], [0.7777777777777778, \"#fb9f3a\"], [0.8888888888888888, \"#fdca26\"], [1.0, \"#f0f921\"]], \"type\": \"contour\"}], \"contourcarpet\": [{\"colorbar\": {\"outlinewidth\": 0, \"ticks\": \"\"}, \"type\": \"contourcarpet\"}], \"heatmap\": [{\"colorbar\": {\"outlinewidth\": 0, \"ticks\": \"\"}, \"colorscale\": [[0.0, \"#0d0887\"], [0.1111111111111111, \"#46039f\"], [0.2222222222222222, \"#7201a8\"], [0.3333333333333333, \"#9c179e\"], [0.4444444444444444, \"#bd3786\"], [0.5555555555555556, \"#d8576b\"], [0.6666666666666666, \"#ed7953\"], [0.7777777777777778, \"#fb9f3a\"], [0.8888888888888888, \"#fdca26\"], [1.0, \"#f0f921\"]], \"type\": \"heatmap\"}], \"heatmapgl\": [{\"colorbar\": {\"outlinewidth\": 0, \"ticks\": \"\"}, \"colorscale\": [[0.0, \"#0d0887\"], [0.1111111111111111, \"#46039f\"], [0.2222222222222222, \"#7201a8\"], [0.3333333333333333, \"#9c179e\"], [0.4444444444444444, \"#bd3786\"], [0.5555555555555556, \"#d8576b\"], [0.6666666666666666, \"#ed7953\"], [0.7777777777777778, \"#fb9f3a\"], [0.8888888888888888, \"#fdca26\"], [1.0, \"#f0f921\"]], \"type\": \"heatmapgl\"}], \"histogram\": [{\"marker\": {\"colorbar\": {\"outlinewidth\": 0, \"ticks\": \"\"}}, \"type\": \"histogram\"}], \"histogram2d\": [{\"colorbar\": {\"outlinewidth\": 0, \"ticks\": \"\"}, \"colorscale\": [[0.0, \"#0d0887\"], [0.1111111111111111, \"#46039f\"], [0.2222222222222222, \"#7201a8\"], [0.3333333333333333, \"#9c179e\"], [0.4444444444444444, \"#bd3786\"], [0.5555555555555556, \"#d8576b\"], [0.6666666666666666, \"#ed7953\"], [0.7777777777777778, \"#fb9f3a\"], [0.8888888888888888, \"#fdca26\"], [1.0, \"#f0f921\"]], \"type\": \"histogram2d\"}], \"histogram2dcontour\": [{\"colorbar\": {\"outlinewidth\": 0, \"ticks\": \"\"}, \"colorscale\": [[0.0, \"#0d0887\"], [0.1111111111111111, \"#46039f\"], [0.2222222222222222, \"#7201a8\"], [0.3333333333333333, \"#9c179e\"], [0.4444444444444444, \"#bd3786\"], [0.5555555555555556, \"#d8576b\"], [0.6666666666666666, \"#ed7953\"], [0.7777777777777778, \"#fb9f3a\"], [0.8888888888888888, \"#fdca26\"], [1.0, \"#f0f921\"]], \"type\": \"histogram2dcontour\"}], \"mesh3d\": [{\"colorbar\": {\"outlinewidth\": 0, \"ticks\": \"\"}, \"type\": \"mesh3d\"}], \"parcoords\": [{\"line\": {\"colorbar\": {\"outlinewidth\": 0, \"ticks\": \"\"}}, \"type\": \"parcoords\"}], \"pie\": [{\"automargin\": true, \"type\": \"pie\"}], \"scatter\": [{\"marker\": {\"colorbar\": {\"outlinewidth\": 0, \"ticks\": \"\"}}, \"type\": \"scatter\"}], \"scatter3d\": [{\"line\": {\"colorbar\": {\"outlinewidth\": 0, \"ticks\": \"\"}}, \"marker\": {\"colorbar\": {\"outlinewidth\": 0, \"ticks\": \"\"}}, \"type\": \"scatter3d\"}], \"scattercarpet\": [{\"marker\": {\"colorbar\": {\"outlinewidth\": 0, \"ticks\": \"\"}}, \"type\": \"scattercarpet\"}], \"scattergeo\": [{\"marker\": {\"colorbar\": {\"outlinewidth\": 0, \"ticks\": \"\"}}, \"type\": \"scattergeo\"}], \"scattergl\": [{\"marker\": {\"colorbar\": {\"outlinewidth\": 0, \"ticks\": \"\"}}, \"type\": \"scattergl\"}], \"scattermapbox\": [{\"marker\": {\"colorbar\": {\"outlinewidth\": 0, \"ticks\": \"\"}}, \"type\": \"scattermapbox\"}], \"scatterpolar\": [{\"marker\": {\"colorbar\": {\"outlinewidth\": 0, \"ticks\": \"\"}}, \"type\": \"scatterpolar\"}], \"scatterpolargl\": [{\"marker\": {\"colorbar\": {\"outlinewidth\": 0, \"ticks\": \"\"}}, \"type\": \"scatterpolargl\"}], \"scatterternary\": [{\"marker\": {\"colorbar\": {\"outlinewidth\": 0, \"ticks\": \"\"}}, \"type\": \"scatterternary\"}], \"surface\": [{\"colorbar\": {\"outlinewidth\": 0, \"ticks\": \"\"}, \"colorscale\": [[0.0, \"#0d0887\"], [0.1111111111111111, \"#46039f\"], [0.2222222222222222, \"#7201a8\"], [0.3333333333333333, \"#9c179e\"], [0.4444444444444444, \"#bd3786\"], [0.5555555555555556, \"#d8576b\"], [0.6666666666666666, \"#ed7953\"], [0.7777777777777778, \"#fb9f3a\"], [0.8888888888888888, \"#fdca26\"], [1.0, \"#f0f921\"]], \"type\": \"surface\"}], \"table\": [{\"cells\": {\"fill\": {\"color\": \"#EBF0F8\"}, \"line\": {\"color\": \"white\"}}, \"header\": {\"fill\": {\"color\": \"#C8D4E3\"}, \"line\": {\"color\": \"white\"}}, \"type\": \"table\"}]}, \"layout\": {\"annotationdefaults\": {\"arrowcolor\": \"#2a3f5f\", \"arrowhead\": 0, \"arrowwidth\": 1}, \"autotypenumbers\": \"strict\", \"coloraxis\": {\"colorbar\": {\"outlinewidth\": 0, \"ticks\": \"\"}}, \"colorscale\": {\"diverging\": [[0, \"#8e0152\"], [0.1, \"#c51b7d\"], [0.2, \"#de77ae\"], [0.3, \"#f1b6da\"], [0.4, \"#fde0ef\"], [0.5, \"#f7f7f7\"], [0.6, \"#e6f5d0\"], [0.7, \"#b8e186\"], [0.8, \"#7fbc41\"], [0.9, \"#4d9221\"], [1, \"#276419\"]], \"sequential\": [[0.0, \"#0d0887\"], [0.1111111111111111, \"#46039f\"], [0.2222222222222222, \"#7201a8\"], [0.3333333333333333, \"#9c179e\"], [0.4444444444444444, \"#bd3786\"], [0.5555555555555556, \"#d8576b\"], [0.6666666666666666, \"#ed7953\"], [0.7777777777777778, \"#fb9f3a\"], [0.8888888888888888, \"#fdca26\"], [1.0, \"#f0f921\"]], \"sequentialminus\": [[0.0, \"#0d0887\"], [0.1111111111111111, \"#46039f\"], [0.2222222222222222, \"#7201a8\"], [0.3333333333333333, \"#9c179e\"], [0.4444444444444444, \"#bd3786\"], [0.5555555555555556, \"#d8576b\"], [0.6666666666666666, \"#ed7953\"], [0.7777777777777778, \"#fb9f3a\"], [0.8888888888888888, \"#fdca26\"], [1.0, \"#f0f921\"]]}, \"colorway\": [\"#636efa\", \"#EF553B\", \"#00cc96\", \"#ab63fa\", \"#FFA15A\", \"#19d3f3\", \"#FF6692\", \"#B6E880\", \"#FF97FF\", \"#FECB52\"], \"font\": {\"color\": \"#2a3f5f\"}, \"geo\": {\"bgcolor\": \"white\", \"lakecolor\": \"white\", \"landcolor\": \"#E5ECF6\", \"showlakes\": true, \"showland\": true, \"subunitcolor\": \"white\"}, \"hoverlabel\": {\"align\": \"left\"}, \"hovermode\": \"closest\", \"mapbox\": {\"style\": \"light\"}, \"paper_bgcolor\": \"white\", \"plot_bgcolor\": \"#E5ECF6\", \"polar\": {\"angularaxis\": {\"gridcolor\": \"white\", \"linecolor\": \"white\", \"ticks\": \"\"}, \"bgcolor\": \"#E5ECF6\", \"radialaxis\": {\"gridcolor\": \"white\", \"linecolor\": \"white\", \"ticks\": \"\"}}, \"scene\": {\"xaxis\": {\"backgroundcolor\": \"#E5ECF6\", \"gridcolor\": \"white\", \"gridwidth\": 2, \"linecolor\": \"white\", \"showbackground\": true, \"ticks\": \"\", \"zerolinecolor\": \"white\"}, \"yaxis\": {\"backgroundcolor\": \"#E5ECF6\", \"gridcolor\": \"white\", \"gridwidth\": 2, \"linecolor\": \"white\", \"showbackground\": true, \"ticks\": \"\", \"zerolinecolor\": \"white\"}, \"zaxis\": {\"backgroundcolor\": \"#E5ECF6\", \"gridcolor\": \"white\", \"gridwidth\": 2, \"linecolor\": \"white\", \"showbackground\": true, \"ticks\": \"\", \"zerolinecolor\": \"white\"}}, \"shapedefaults\": {\"line\": {\"color\": \"#2a3f5f\"}}, \"ternary\": {\"aaxis\": {\"gridcolor\": \"white\", \"linecolor\": \"white\", \"ticks\": \"\"}, \"baxis\": {\"gridcolor\": \"white\", \"linecolor\": \"white\", \"ticks\": \"\"}, \"bgcolor\": \"#E5ECF6\", \"caxis\": {\"gridcolor\": \"white\", \"linecolor\": \"white\", \"ticks\": \"\"}}, \"title\": {\"x\": 0.05}, \"xaxis\": {\"automargin\": true, \"gridcolor\": \"white\", \"linecolor\": \"white\", \"ticks\": \"\", \"title\": {\"standoff\": 15}, \"zerolinecolor\": \"white\", \"zerolinewidth\": 2}, \"yaxis\": {\"automargin\": true, \"gridcolor\": \"white\", \"linecolor\": \"white\", \"ticks\": \"\", \"title\": {\"standoff\": 15}, \"zerolinecolor\": \"white\", \"zerolinewidth\": 2}}}, \"title\": {\"text\": \"Mean Temperature --- Bombing Dates and Mean Temperature at this Date\"}},                        {\"responsive\": true}                    ).then(function(){\n",
       "                            \n",
       "var gd = document.getElementById('ec60d407-39f3-4f51-b4de-e9b457339476');\n",
       "var x = new MutationObserver(function (mutations, observer) {{\n",
       "        var display = window.getComputedStyle(gd).display;\n",
       "        if (!display || display === 'none') {{\n",
       "            console.log([gd, 'removed!']);\n",
       "            Plotly.purge(gd);\n",
       "            observer.disconnect();\n",
       "        }}\n",
       "}});\n",
       "\n",
       "// Listen for the removal of the full notebook cells\n",
       "var notebookContainer = gd.closest('#notebook-container');\n",
       "if (notebookContainer) {{\n",
       "    x.observe(notebookContainer, {childList: true});\n",
       "}}\n",
       "\n",
       "// Listen for the clearing of the current output cell\n",
       "var outputEl = gd.closest('.output');\n",
       "if (outputEl) {{\n",
       "    x.observe(outputEl, {childList: true});\n",
       "}}\n",
       "\n",
       "                        })                };                });            </script>        </div>"
      ]
     },
     "metadata": {},
     "output_type": "display_data"
    }
   ],
   "source": [
    "# Create a trace\n",
    "trace = go.Scatter(\n",
    "    x = weather_bin.Date,\n",
    "    mode = \"lines\",\n",
    "    y = weather_bin.MeanTemp,\n",
    "    marker = dict(color = 'rgba(16, 112, 2, 0.8)'),\n",
    "    name = \"Mean Temperature\"\n",
    ")\n",
    "trace1 = go.Scatter(\n",
    "    x = aerial_war[\"Mission Date\"],\n",
    "    mode = \"markers\",\n",
    "    y = aa,\n",
    "    marker = dict(color = 'rgba(16, 0, 200, 1)'),\n",
    "    name = \"Bombing temperature\"\n",
    ")\n",
    "layout = dict(title = 'Mean Temperature --- Bombing Dates and Mean Temperature at this Date')\n",
    "data = [trace,trace1]\n",
    "\n",
    "# fig = dict(data = data, layout = layout)\n",
    "# iplot(fig)\n",
    "fig = go.Figure(data=data, layout=layout)\n",
    "fig.show()\n"
   ]
  },
  {
   "cell_type": "markdown",
   "metadata": {
    "slideshow": {
     "slide_type": "subslide"
    }
   },
   "source": [
    "* Green line is mean temperature that is measured in Bindukuri.\n",
    "* Blue markers are bombing dates and bombing date temperature.\n",
    "* As it can be seen from plot, USA bomb at high temperatures.\n",
    "    * The question is that can we predict future weather and according to this prediction can we know whether bombing will be done or not.\n",
    "    * In order to answer this question lets first start with time series prediction.\n",
    "  "
   ]
  },
  {
   "cell_type": "markdown",
   "metadata": {
    "slideshow": {
     "slide_type": "slide"
    }
   },
   "source": [
    "* The way that we will follow: \n",
    "    * What is Time Series ?\n",
    "    * Stationarity of a Time Series\n",
    "    * Make a Time Series Stationary?\n",
    "    * Forecasting a Time Series"
   ]
  },
  {
   "cell_type": "markdown",
   "metadata": {
    "slideshow": {
     "slide_type": "subslide"
    }
   },
   "source": [
    "### What is time series?\n",
    "* Time series is a collection of data points that are collected at constant time intervals.\n",
    "* It is time dependent.\n",
    "* Most (BUT NOT ALL) of time series have some form of **seasonality trends**. For example, if we sell ice cream, most probably there will be higher sales in summer. Therefore, this time series has seasonality trends.\n",
    "* Another example, let's think we dice one time every day during 1 year. There will be no scenario like that number six is appeared mostly in summer season or number five is mostly appeared in January. Therefore, this time series does not have seasonality trends."
   ]
  },
  {
   "cell_type": "markdown",
   "metadata": {
    "slideshow": {
     "slide_type": "slide"
    }
   },
   "source": [
    "# BREAKOUT"
   ]
  },
  {
   "cell_type": "markdown",
   "metadata": {
    "slideshow": {
     "slide_type": "subslide"
    }
   },
   "source": [
    "### Stationarity of a Time Series\n",
    "* There are three basic criterion for a time series to understand whether it is stationary series or not.\n",
    "    * Statistical properties of time series such as mean, variance should remain constant over time to call **time series is stationary**\n",
    "        * constant mean\n",
    "        * constant variance\n",
    "        * autocovariance that does not depend on time. autocovariance is covariance between time series and lagged time series.\n",
    "* Lets visualize and check seasonality trend of our time series."
   ]
  },
  {
   "cell_type": "code",
   "execution_count": 7,
   "metadata": {
    "scrolled": true,
    "slideshow": {
     "slide_type": "subslide"
    }
   },
   "outputs": [
    {
     "data": {
      "image/png": "[encoded data removed]",
      "text/plain": [
       "<Figure size 1584x720 with 1 Axes>"
      ]
     },
     "metadata": {},
     "output_type": "display_data"
    }
   ],
   "source": [
    "# Mean temperature of Bindikuri area\n",
    "plt.figure(figsize=(22,10))\n",
    "plt.plot(weather_bin.Date,weather_bin.MeanTemp)\n",
    "plt.title(\"Mean Temperature of Bindukuri Area\")\n",
    "plt.xlabel(\"Date\")\n",
    "plt.ylabel(\"Mean Temperature\")\n",
    "plt.show()"
   ]
  },
  {
   "cell_type": "code",
   "execution_count": 8,
   "metadata": {
    "slideshow": {
     "slide_type": "fragment"
    }
   },
   "outputs": [],
   "source": [
    "# lets create time series from weather \n",
    "timeSeries = weather_bin.loc[:, [\"Date\",\"MeanTemp\"]]\n",
    "timeSeries.index = timeSeries.Date\n",
    "ts = timeSeries.drop(\"Date\",axis=1)"
   ]
  },
  {
   "cell_type": "markdown",
   "metadata": {
    "slideshow": {
     "slide_type": "subslide"
    }
   },
   "source": [
    "* As you can see from plot above, our time series has seasonal variation. In summer, mean temperature is higher and in winter mean temperature is lower for each year.\n",
    "* Now lets check stationarity of time series. We can check stationarity using the following methods: \n",
    "    * Plotting Rolling Statistics: We have a window lets say window size is 6 and then we find rolling mean and variance to check stationary.\n",
    "    * Dickey-Fuller Test: The test results comprise of a **Test Statistic** and some **Critical Values** for difference confidence levels. If the **test statistic** is less than the **critical value**, we can say that time series is stationary.\n",
    "\n",
    "More info : <a href=\"https://www.statsmodels.org/stable/api.html#statistics-and-tests\"> Statistics for Time Series</a>"
   ]
  },
  {
   "cell_type": "code",
   "execution_count": 9,
   "metadata": {},
   "outputs": [],
   "source": [
    "# import adfuller here\n",
    "\n",
    "# def a 'check_adfuller' function that takes in argument (ts) here. Print test statistic and p-value and  critical value.\n",
    "\n",
    "def check_adfuller(ts):\n",
    "    \"\"\"Performs the dickey-fuller test using the statsmodels tsa package.\"\"\""
   ]
  },
  {
   "cell_type": "markdown",
   "metadata": {
    "slideshow": {
     "slide_type": "subslide"
    }
   },
   "source": [
    "Define a `check_mean_std` function that takes in argument `(ts)` here. For `rolling mean`, take a window of 6. \n",
    "For more info, refer this link. \n",
    "\n",
    "<a href=\"https://www.geeksforgeeks.org/python-pandas-dataframe-rolling/\">Pandas Rolling</a>"
   ]
  },
  {
   "cell_type": "code",
   "execution_count": 10,
   "metadata": {},
   "outputs": [
    {
     "ename": "SyntaxError",
     "evalue": "invalid syntax (<ipython-input-10-367cfa3e3f66>, line 6)",
     "output_type": "error",
     "traceback": [
      "\u001b[1;36m  File \u001b[1;32m\"<ipython-input-10-367cfa3e3f66>\"\u001b[1;36m, line \u001b[1;32m6\u001b[0m\n\u001b[1;33m    rolmean =\u001b[0m\n\u001b[1;37m              ^\u001b[0m\n\u001b[1;31mSyntaxError\u001b[0m\u001b[1;31m:\u001b[0m invalid syntax\n"
     ]
    }
   ],
   "source": [
    "def check_mean_std (ts):\n",
    "    \"\"\" Get a rolling statistics of mean of ts, window size =6. Get rolling std of window size 6. \n",
    "    Return a plot showing the original ts, rolling mean and rolling std.\"\"\"\n",
    "    \n",
    "    # Calculate Rolling statistics\n",
    "    rolmean = \n",
    "    rolstd = \n",
    "\n",
    "    # Plot the rolling mean & rolling std\n",
    "    plt.figure(figsize=(22,10))   \n",
    "    orig = plt.plot(ts, color='red',label='Original')\n",
    "    mean = plt.plot(rolmean, color='black', label='Rolling Mean')\n",
    "    std = plt.plot(rolstd, color='green', label = 'Rolling Std')\n",
    "    plt.xlabel(\"Date\")\n",
    "    plt.ylabel(\"Mean Temperature\")\n",
    "    plt.title('Rolling Mean & Standard Deviation')\n",
    "    plt.legend()\n",
    "    plt.show()"
   ]
  },
  {
   "cell_type": "code",
   "execution_count": null,
   "metadata": {},
   "outputs": [],
   "source": [
    "# Execute your check_adfuller function and check_mean_std here.\n"
   ]
  },
  {
   "cell_type": "markdown",
   "metadata": {
    "slideshow": {
     "slide_type": "subslide"
    }
   },
   "source": [
    "What can you intepret from the tests?"
   ]
  },
  {
   "cell_type": "markdown",
   "metadata": {
    "slideshow": {
     "slide_type": "slide"
    }
   },
   "source": [
    "### Make a Time Series Stationary?\n",
    "* As we mentioned before, there are 2  reasons behind non-stationarity of time series\n",
    "    * Trend: varying mean over time. We need <span style=\"color:purple\">constant mean for stationary of time series</span>.\n",
    "    * Seasonality: <span style=\"color:purple\">variations at specific time. </span> We need constant variations for stationary of time series.\n",
    "* First solve **trend(constant mean)** problem\n",
    "    * Most popular method is moving average.<i>(To be covered in Day 3)</i>\n",
    "        * Moving average: We have window that take the average over the past 'n' sample. 'n' is window size.\n",
    "* Second method:\n",
    "We will use the <b>differencing</b> method to convert to stationary."
   ]
  },
  {
   "cell_type": "code",
   "execution_count": null,
   "metadata": {},
   "outputs": [],
   "source": [
    "ts_diff = ts - ts.shift()\n",
    "plt.figure(figsize=(22,10))\n",
    "plt.plot(ts_diff)\n",
    "plt.title(\"Differencing method\") \n",
    "plt.xlabel(\"Date\")\n",
    "plt.ylabel(\"Differencing Mean Temperature\")\n",
    "plt.show()"
   ]
  },
  {
   "cell_type": "code",
   "execution_count": null,
   "metadata": {},
   "outputs": [],
   "source": [
    "ts_diff.dropna(inplace=True) # due to shifting there is nan values\n",
    "\n",
    "# check stationarity: mean, variance(std)and adfuller test\n",
    "check_mean_std(ts_diff)\n",
    "check_adfuller(ts_diff.MeanTemp)"
   ]
  },
  {
   "cell_type": "markdown",
   "metadata": {},
   "source": [
    "Constant mean criteria: mean looks like constant as you can see from plot(black line) above . (yes stationary)\n",
    "Second one is constant variance. It looks like constant. (yes stationary)\n",
    "The test statistic is smaller than the 1% critical values so we can say with 99% confidence that this is a stationary series. (yes stationary)"
   ]
  },
  {
   "cell_type": "markdown",
   "metadata": {},
   "source": [
    "### Finding ACF and PACF\n",
    "\n",
    "Using the `statsmodels.tsa` module, let's import acf and pacf. \n",
    "\n",
    "Refer here for more info: https://www.statsmodels.org/stable/api.html#statistics-and-tests"
   ]
  },
  {
   "cell_type": "code",
   "execution_count": null,
   "metadata": {},
   "outputs": [],
   "source": [
    "# import your acf and pacf here\n"
   ]
  },
  {
   "cell_type": "markdown",
   "metadata": {},
   "source": [
    "Calculate the <u>lag_acf</u> using the `acf` function and <u>lag_pacf</u> using the `pacf` function above for <b> 20 lags </b>."
   ]
  },
  {
   "cell_type": "code",
   "execution_count": null,
   "metadata": {},
   "outputs": [],
   "source": [
    "# Complete the following\n",
    "lag_acf = \n",
    "lag_pacf = "
   ]
  },
  {
   "cell_type": "markdown",
   "metadata": {},
   "source": [
    "Plot the ACF and PACF of the differenced-time series. "
   ]
  },
  {
   "cell_type": "code",
   "execution_count": null,
   "metadata": {},
   "outputs": [],
   "source": [
    "# ACF Plot \n",
    "plt.figure(figsize=(22,10))\n",
    "\n",
    "plt.subplot(121) \n",
    "plt.plot(lag_acf)\n",
    "plt.axhline(y=0,linestyle='--',color='gray')\n",
    "plt.axhline(y=-1.96/np.sqrt(len(ts_diff)),linestyle='--',color='gray')\n",
    "plt.axhline(y=1.96/np.sqrt(len(ts_diff)),linestyle='--',color='gray')\n",
    "plt.title('Autocorrelation Function')\n",
    "\n",
    "# PACF Plot\n",
    "plt.subplot(122)\n",
    "plt.plot(lag_pacf)\n",
    "plt.axhline(y=0,linestyle='--',color='gray')\n",
    "plt.axhline(y=-1.96/np.sqrt(len(ts_diff)),linestyle='--',color='gray')\n",
    "plt.axhline(y=1.96/np.sqrt(len(ts_diff)),linestyle='--',color='gray')\n",
    "plt.title('Partial Autocorrelation Function')\n",
    "plt.tight_layout()"
   ]
  },
  {
   "cell_type": "markdown",
   "metadata": {},
   "source": [
    "* 1. What can you interpret?\n",
    "* 2. What are the two dotted lines?\n",
    "* 3. How do you determine 'p' and 'q' values (TO BE COVERED IN DAY 3)?\n"
   ]
  },
  {
   "cell_type": "markdown",
   "metadata": {},
   "source": [
    "## END"
   ]
  }
 ],
 "metadata": {
  "celltoolbar": "Slideshow",
  "kernelspec": {
   "display_name": "Python 3",
   "language": "python",
   "name": "python3"
  },
  "language_info": {
   "codemirror_mode": {
    "name": "ipython",
    "version": 3
   },
   "file_extension": ".py",
   "mimetype": "text/x-python",
   "name": "python",
   "nbconvert_exporter": "python",
   "pygments_lexer": "ipython3",
   "version": "3.7.9"
  }
 },
 "nbformat": 4,
 "nbformat_minor": 2
}
