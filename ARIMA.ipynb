{
 "cells": [
  {
   "cell_type": "code",
   "execution_count": null,
   "metadata": {},
   "outputs": [],
   "source": [
    "# Styling notebook\n",
    "from IPython.core.display import HTML\n",
    "def css_styling():\n",
    "    styles = open(\"rise.css\", \"r\").read()\n",
    "    return HTML(styles)\n",
    "css_styling()"
   ]
  },
  {
   "cell_type": "markdown",
   "metadata": {
    "slideshow": {
     "slide_type": "slide"
    }
   },
   "source": [
    "<div style=\"font-size:2em; text-align:center; margin-top:30px; margin-bottom:20px\">Data Science Academy 7</div>\n",
    "<hr>\n",
    "<br>\n",
    "\n",
    "<div style=\"font-size:4em; text-align:center; margin-bottom:30px; color:#00746E\"><b>ARIMA Univariate</b></div>"
   ]
  },
  {
   "cell_type": "code",
   "execution_count": null,
   "metadata": {
    "slideshow": {
     "slide_type": "subslide"
    }
   },
   "outputs": [],
   "source": [
    "# Import packages\n",
    "import pandas as pd\n",
    "from pandas import read_csv\n",
    "from pandas import datetime\n",
    "from matplotlib import pyplot\n",
    "from statsmodels.tsa.arima.model import ARIMA\n",
    "from sklearn.metrics import mean_squared_error\n",
    "from math import sqrt"
   ]
  },
  {
   "cell_type": "code",
   "execution_count": null,
   "metadata": {
    "slideshow": {
     "slide_type": "fragment"
    }
   },
   "outputs": [],
   "source": [
    "# Load dataset\n",
    "df = read_csv('../input/demand_store_forecast/train.csv')\n",
    "df = df[(df['store'] == 1) & (df['item'] == 1)] # item 1 in store 1\n",
    "df = df.set_index('date')\n",
    "df.index = pd.DatetimeIndex(df.index).to_period('D')\n",
    "y = df['sales']\n",
    "y_to_train = y.iloc[:(len(y)-365)]\n",
    "y_to_test = y.iloc[(len(y)-365):] # last year for testing"
   ]
  },
  {
   "attachments": {},
   "cell_type": "markdown",
   "metadata": {
    "slideshow": {
     "slide_type": "slide"
    }
   },
   "source": [
    "## Walk forward validation\n",
    "\n",
    "<a> <img src=\"https://miro.medium.com/max/875/1*1JVA5-KVizOuSh9uk8W2xQ.png\" alt=\"walk\" border=\"0\" height=\"300\"></a>\n"
   ]
  },
  {
   "cell_type": "code",
   "execution_count": null,
   "metadata": {
    "slideshow": {
     "slide_type": "slide"
    },
    "tags": []
   },
   "outputs": [],
   "source": [
    "# evaluate an ARIMA model using a walk-forward validation\n",
    "predictions = list()\n",
    "history = [x for x in y_to_train]\n",
    "\n",
    "# walk-forward validation\n",
    "for t in range(len(y_to_test)):\n",
    "\tmodel = ARIMA(y_to_train, order=(1,1,0), freq= 'D') ## Train ARIMA Model \n",
    "\tmodel_fit = model.fit()\n",
    "\toutput = model_fit.forecast() \n",
    "\tyhat = output[0]\n",
    "\tpredictions.append(yhat)\n",
    "\tobs = y_to_test[t]\n",
    "\thistory.append(obs)\n",
    "\tprint('predicted=%f, expected=%f' % (yhat, obs))"
   ]
  },
  {
   "cell_type": "code",
   "execution_count": null,
   "metadata": {},
   "outputs": [],
   "source": [
    "y_to_test"
   ]
  },
  {
   "cell_type": "code",
   "execution_count": null,
   "metadata": {
    "scrolled": true,
    "slideshow": {
     "slide_type": "slide"
    }
   },
   "outputs": [],
   "source": [
    "# evaluate forecasts\n",
    "rmse = sqrt(mean_squared_error(y_to_test.values, predictions))\n",
    "print('Test RMSE: %.3f' % rmse)\n",
    "# plot forecasts against actual outcomes\n",
    "pyplot.plot(y_to_test.values)\n",
    "pyplot.plot(predictions, color='red')\n",
    "pyplot.show()"
   ]
  }
 ],
 "metadata": {
  "celltoolbar": "Slideshow",
  "kernelspec": {
   "display_name": "Python 3",
   "language": "python",
   "name": "python3"
  },
  "language_info": {
   "codemirror_mode": {
    "name": "ipython",
    "version": 3
   },
   "file_extension": ".py",
   "mimetype": "text/x-python",
   "name": "python",
   "nbconvert_exporter": "python",
   "pygments_lexer": "ipython3",
   "version": "3.7.9"
  }
 },
 "nbformat": 4,
 "nbformat_minor": 2
}
