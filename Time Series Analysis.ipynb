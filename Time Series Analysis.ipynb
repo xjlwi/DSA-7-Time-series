{
 "metadata": {
  "language_info": {
   "codemirror_mode": {
    "name": "ipython",
    "version": 3
   },
   "file_extension": ".py",
   "mimetype": "text/x-python",
   "name": "python",
   "nbconvert_exporter": "python",
   "pygments_lexer": "ipython3",
   "version": "3.7.3-final"
  },
  "orig_nbformat": 2,
  "kernelspec": {
   "name": "python3",
   "display_name": "Python 3",
   "language": "python"
  }
 },
 "nbformat": 4,
 "nbformat_minor": 2,
 "cells": [
  {
   "source": [
    "# INTRODUCTION\n",
    "<a href=\"http://ibb.co/hxXdKx\"><img src=\"http://preview.ibb.co/cgA9Rc/ww2.png\" alt=\"ww2\" border=\"0\"></a>\n",
    "\n",
    "* In this kernel, we use multiple data sources that are **aerial bombing  operations** and **weather conditions in world war 2**.\n",
    "* After this point, I will use acronym ww2 for world war 2.\n",
    "* We will start with **data description and cleaning**, then we will visualize our data to understand better. These processes can be called **EDA (Exploratory Data Analysis)**.\n",
    "* After that, we will focus on **time series prediction** to predict when bombing operations are done. \n",
    "* For time series prediction, we will use **ARIMA** method that will be a tutorial. \n",
    " \n",
    " <br> <font color='blue'> Content: \n",
    "    * [Load the Data](#1)\n",
    "    * [Data Description](#2)\n",
    "    * [Data Cleaning](#3)\n",
    "    * [Data Visualization](#4)\n",
    "    * [Time Series Prediction with ARIMA](#5)\n",
    "        * [ What is Time Series ?](#6)\n",
    "        * [Stationarity of a Time Series](#7)\n",
    "        * [Make a Time Series Stationary](#8)\n",
    "            * Moving Average method\n",
    "            * Differencing method\n",
    "        * [Forecasting a Time Series](#9)\n",
    "    * [Conclusion](#10)\n"
   ],
   "cell_type": "markdown",
   "metadata": {}
  },
  {
   "cell_type": "code",
   "execution_count": null,
   "metadata": {},
   "outputs": [],
   "source": [
    "import numpy as np # linear algebra\n",
    "import pandas as pd # data processing, CSV file I/O (e.g. pd.read_csv)\n",
    "import seaborn as sns # visualization library\n",
    "import matplotlib.pyplot as plt # visualization library\n",
    "import plotly.graph_objs as go # plotly graphical object"
   ]
  },
  {
   "cell_type": "code",
   "execution_count": null,
   "metadata": {},
   "outputs": [],
   "source": [
    "# Input data files are available in the \"../input/\" directory.\n",
    "# For example, running this (by clicking run or pressing Shift+Enter) will list the files in the input directory\n",
    "import os\n",
    "print(os.listdir(\"../input\"))\n",
    "# import warnings library\n",
    "import warnings        \n",
    "# ignore filters\n",
    "warnings.filterwarnings(\"ignore\") # if there is a warning after some codes, this will avoid us to see them.\n",
    "plt.style.use('ggplot') # style of plots. ggplot is one of the most used style, I also like it.\n",
    "# Any results you write to the current directory are saved as output."
   ]
  },
  {
   "source": [
    "<a id=\"1\"></a> <br>\n",
    "## Load the Data\n",
    "* We use multiple data sources.\n",
    "    * Aerial Bombing Operations in WW2\n",
    "        * Shortly, this data includes bombing operations. For example, USA who use ponte olivo airfield bomb Germany (Berlin) with A36 air craft in 1945.\n",
    "    * Wether Conditions in WW2\n",
    "        * Shortly, weather conditions during ww2. For example, according to george town weather station, average temperature is 23.88 in 1/7/1942. \n",
    "        * This data set has 2 subset in it. First one includes weather station locations like country, latitude and longitude.\n",
    "        * Second one includes measured min, max and mean temperatures from weather stations."
   ],
   "cell_type": "markdown",
   "metadata": {}
  },
  {
   "cell_type": "code",
   "execution_count": null,
   "metadata": {},
   "outputs": [],
   "source": [
    "# bombing data\n",
    "aerial = pd.read_csv(\"../input/operations/operations.csv\")\n",
    "# first weather data that includes locations like country, latitude and longitude.\n",
    "weather_station_location = pd.read_csv(\"../input/Weather Station Locations.csv\")"
   ]
  },
  {
   "source": [
    "Now load the second weather data, called <u>Summary of Weather.csv</u> and assign it to the variable called `weather`"
   ],
   "cell_type": "markdown",
   "metadata": {}
  },
  {
   "cell_type": "code",
   "execution_count": null,
   "metadata": {},
   "outputs": [],
   "source": [
    "# Write your code here. Second weather data that includes measured min, max and mean temperatures. \n"
   ]
  },
  {
   "source": [
    "<a id=\"2\"></a> <br>\n",
    "## Data Description\n",
    "Only DATA FEATURES USED IN THIS KERNEL ARE LISTED.\n",
    "* **Aerial bombing Data description:**\n",
    "    * Mission Date: Date of mission\n",
    "    * Theater of Operations: Region in which active military operations are in progress; \"the army was in the field awaiting action\"; Example: \"he served in the Vietnam theater for three years\"\n",
    "    * Country: Country that makes mission or operation like USA\n",
    "    * Air Force: Name or id of air force unity like 5AF\n",
    "    * Aircraft Series: Model or type of aircraft like B24\n",
    "    * Callsign: Before bomb attack, message, code, announcement, or tune that is broadcast by radio.\n",
    "    * Takeoff Base: Takeoff airport name like Ponte Olivo Airfield \n",
    "    * Takeoff Location: takeoff region Sicily\n",
    "    * Takeoff Latitude: Latitude of takeoff region\n",
    "    * Takeoff Longitude: Longitude of takeoff region\n",
    "    * Target Country: Target country like Germany\n",
    "    * Target City: Target city like Berlin\n",
    "    * Target Type: Type of target like city area\n",
    "    * Target Industry: Target industy like town or urban\n",
    "    * Target Priority: Target priority like 1 (most)\n",
    "    * Target Latitude: Latitude of target \n",
    "    * Target Longitude: Longitude of target\n",
    "* **Weather Condition data description:**\n",
    "    * Weather station location:\n",
    "        * WBAN: Weather station number\n",
    "        * NAME: weather station name\n",
    "        * STATE/COUNTRY ID: acronym of countries\n",
    "        * Latitude: Latitude of weather station\n",
    "        * Longitude: Longitude of weather station\n",
    "    * Weather:\n",
    "        * STA: eather station number (WBAN)\n",
    "        * Date: Date of temperature  measurement \n",
    "        * MeanTemp: Mean temperature"
   ],
   "cell_type": "markdown",
   "metadata": {}
  },
  {
   "source": [
    "<a id=\"3\"></a> <br>\n",
    "## Data Cleaning\n",
    "* Aerial  Bombing data includes a lot of NaN value. Instead of using them, we drop some NaN values. It does not only remove the uncertainty but it also ease the visualization process.\n",
    "    * Drop countries that are NaN\n",
    "    * Drop if target longitude is NaN\n",
    "    * Drop if takeoff longitude is NaN\n",
    "    * Drop unused features\n",
    "* Weather Condition data does not need any cleaning. According to exploratory data analysis and visualization, we will choose certain location to examine deeper. However, lets put our data variables what we use only. "
   ],
   "cell_type": "markdown",
   "metadata": {}
  },
  {
   "cell_type": "code",
   "execution_count": null,
   "metadata": {},
   "outputs": [],
   "source": [
    "# Drop countries that are NaN. Assign it back to the original variable. Insert your code below.\n"
   ]
  },
  {
   "cell_type": "code",
   "execution_count": null,
   "metadata": {},
   "outputs": [],
   "source": [
    "# drop if target longitude is NaN\n",
    "aerial = aerial[pd.isna(aerial['Target Longitude'])==False]\n",
    "\n",
    "# Drop if takeoff longitude is NaN. Insert code here.\n"
   ]
  },
  {
   "cell_type": "code",
   "execution_count": null,
   "metadata": {},
   "outputs": [],
   "source": [
    "# drop unused features\n",
    "drop_list = ['Mission ID','Unit ID','Target ID','Altitude (Hundreds of Feet)','Airborne Aircraft',\n",
    "             'Attacking Aircraft', 'Bombing Aircraft', 'Aircraft Returned',\n",
    "             'Aircraft Failed', 'Aircraft Damaged', 'Aircraft Lost',\n",
    "             'High Explosives', 'High Explosives Type','Mission Type',\n",
    "             'High Explosives Weight (Pounds)', 'High Explosives Weight (Tons)',\n",
    "             'Incendiary Devices', 'Incendiary Devices Type',\n",
    "             'Incendiary Devices Weight (Pounds)',\n",
    "             'Incendiary Devices Weight (Tons)', 'Fragmentation Devices',\n",
    "             'Fragmentation Devices Type', 'Fragmentation Devices Weight (Pounds)',\n",
    "             'Fragmentation Devices Weight (Tons)', 'Total Weight (Pounds)',\n",
    "             'Total Weight (Tons)', 'Time Over Target', 'Bomb Damage Assessment','Source ID']\n",
    "             aerial.drop(drop_list, axis=1,inplace = True)\n",
    "aerial = aerial[ aerial.iloc[:,8]!=\"4248\"] # drop this takeoff latitude \n",
    "aerial = aerial[ aerial.iloc[:,9]!=1355]   # drop this takeoff longitude"
   ]
  },
  {
   "source": [
    "Select only the following columns and assign it to the variable `weather_station_location` \"WBAN\",\"NAME\",\"STATE/COUNTRY ID\",\"Latitude\",\"Longitude\"."
   ],
   "cell_type": "markdown",
   "metadata": {}
  },
  {
   "cell_type": "code",
   "execution_count": null,
   "metadata": {},
   "outputs": [],
   "source": [
    " # Insert your code here. \n"
   ]
  },
  {
   "source": [
    "<a id=\"4\"></a> <br>\n",
    "## Data Visualization\n",
    "* Lets start with basics of visualization that is understanding data.\n",
    "    * How many country which attacks\n",
    "    * Top target countries\n",
    "    * Top 10 aircraft series\n",
    "    * Takeoff base locations (Attack countries)\n",
    "    * Target locations (If you do not understand methods of pyplot look at my pyplot tutorial: https://www.kaggle.com/kanncaa1/plotly-tutorial-for-beginners)\n",
    "    * Bombing paths\n",
    "    * Theater of Operations\n",
    "    * Weather station locations"
   ],
   "cell_type": "markdown",
   "metadata": {}
  },
  {
   "cell_type": "code",
   "execution_count": null,
   "metadata": {},
   "outputs": [],
   "source": [
    "# country\n",
    "print(aerial['Country'].value_counts())\n",
    "plt.figure(figsize=(22,10))\n",
    "sns.countplot(aerial['Country'])\n",
    "plt.show()"
   ]
  },
  {
   "cell_type": "code",
   "execution_count": null,
   "metadata": {},
   "outputs": [],
   "source": [
    "# Top target countries\n",
    "print(aerial['Target Country'].value_counts()[:10])\n",
    "plt.figure(figsize=(22,10))\n",
    "sns.countplot(aerial['Target Country'])\n",
    "plt.xticks(rotation=90)\n",
    "plt.show()"
   ]
  },
  {
   "source": [
    "Visualise the number of count of \"Aircraft Series\" from the `aerial` dataset. \n",
    "Plot using a barchart to visualise the distribution. "
   ],
   "cell_type": "markdown",
   "metadata": {}
  },
  {
   "cell_type": "code",
   "execution_count": null,
   "metadata": {},
   "outputs": [],
   "source": [
    "# Aircraft Series\n",
    "data = aerial['Aircraft Series'].value_counts()\n",
    "print(data[:10])\n",
    "data = [go.Bar(\n",
    "            x=data[:10].index,\n",
    "            y=data[:10].values,\n",
    "            hoverinfo = 'text',\n",
    "            marker = dict(color = 'rgba(177, 14, 22, 0.5)',\n",
    "                             line=dict(color='rgb(0,0,0)',width=1.5)),\n",
    "    )]\n",
    "\n",
    "layout = dict(\n",
    "    title = 'Aircraft Series',\n",
    ")\n",
    "fig = go.Figure(data=data, layout=layout)\n",
    "fig.show()"
   ]
  },
  {
   "cell_type": "code",
   "execution_count": null,
   "metadata": {},
   "outputs": [],
   "source": [
    "aerial.head()"
   ]
  },
  {
   "source": [
    "Let's visualise from which countries the bombing are taken off. We are calling this attack."
   ],
   "cell_type": "markdown",
   "metadata": {}
  },
  {
   "cell_type": "code",
   "execution_count": null,
   "metadata": {},
   "outputs": [],
   "source": [
    "## ATTACK. Assign different colors for different Country. \n",
    "aerial[\"color\"] = \"\"\n",
    "aerial.color[aerial.Country == \"USA\"] = \"rgb(0,116,217)\"\n",
    "aerial.color[aerial.Country == \"GREAT BRITAIN\"] = \"rgb(255,65,54)\"\n",
    "aerial.color[aerial.Country == \"NEW ZEALAND\"] = \"rgb(133,20,75)\"\n",
    "aerial.color[aerial.Country == \"SOUTH AFRICA\"] = \"rgb(255,133,27)\"\n",
    "\n",
    "## We are using a Scatter Plot with Geographical properties from the Plotly library called 'scattergeo'.  \n",
    "data = [dict(\n",
    "    type='scattergeo',\n",
    "    lon = aerial['Takeoff Longitude'], #The takeoff longitude\n",
    "    lat = aerial['Takeoff Latitude'], # The takeoff latitude\n",
    "    hoverinfo = 'text',\n",
    "    text = \"Country: \" + aerial.Country + \" Takeoff Location: \"+aerial[\"Takeoff Location\"]+\" Takeoff Base: \" + aerial['Takeoff Base'],\n",
    "    mode = 'markers',\n",
    "    marker=dict(\n",
    "        sizemode = 'area',\n",
    "        sizeref = 1,\n",
    "        size= 10 ,\n",
    "        line = dict(width=1,color = \"white\"),\n",
    "        color = aerial[\"color\"],\n",
    "        opacity = 0.7),\n",
    ")]\n",
    "\n",
    "# In Plotly, we can also customise the layout of the visualisation.\n",
    "layout = dict(\n",
    "    title = 'Countries Take Off Bases ',\n",
    "    hovermode='closest',\n",
    "    geo = dict(showframe=False, showland=True, showcoastlines=True, showcountries=True,\n",
    "               countrywidth=1, projection=dict(type='mercator'),\n",
    "              landcolor = 'rgb(217, 217, 217)',\n",
    "              subunitwidth=1,\n",
    "              showlakes = True,\n",
    "              lakecolor = 'rgb(255, 255, 255)',\n",
    "              countrycolor=\"rgb(5, 5, 5)\")\n",
    ")\n",
    "# Initialise a class of Plotly graph object, and fit the data and layout. Use fig.show() to visualise the scattergeo.\n",
    "fig = go.Figure(data=data, layout=layout)\n",
    "fig.show()"
   ]
  },
  {
   "source": [
    "Now lets visualize <u>bombing paths</u> which country from which <u>take off</u> base bomb the which **countries and cities.**"
   ],
   "cell_type": "markdown",
   "metadata": {}
  },
  {
   "cell_type": "code",
   "execution_count": null,
   "metadata": {},
   "outputs": [],
   "source": [
    "# Bombing paths\n",
    "# trace1: Takeoff Location\n",
    "airports = [ dict(\n",
    "        type = 'scattergeo',\n",
    "        lon = aerial['Takeoff Longitude'],\n",
    "        lat = aerial['Takeoff Latitude'],\n",
    "        hoverinfo = 'text',\n",
    "        text = \"Country: \" + aerial.Country + \" Takeoff Location: \"+aerial[\"Takeoff Location\"]+\" Takeoff Base: \" + aerial['Takeoff Base'],\n",
    "        mode = 'markers',\n",
    "        marker = dict( \n",
    "            size=5, \n",
    "            color = aerial[\"color\"],\n",
    "            line = dict(\n",
    "                width=1,\n",
    "                color = \"white\"\n",
    "            )\n",
    "        ))]\n",
    "\n",
    "# trace 2: Target city. Complete the code below\n",
    "targets = \n",
    "\n",
    "#trace 3: Flight Paths. We need to create a new dataframe for this. \n",
    "flight_paths = []\n",
    "for i in range( len( aerial['Target Longitude'] ) ):\n",
    "    flight_paths.append(\n",
    "        dict(\n",
    "            type = 'scattergeo',\n",
    "            lon = [ aerial.iloc[i,9], aerial.iloc[i,16] ], # Takeoff Longitude, Target Longitude\n",
    "            lat = [ aerial.iloc[i,8], aerial.iloc[i,15] ], # Takeoff Latitude, Target Latitude.\n",
    "            mode = 'lines',\n",
    "            line = dict(\n",
    "                width = 0.7,\n",
    "                color = 'black',\n",
    "            ),\n",
    "            opacity = 0.6,\n",
    "        )\n",
    "    )"
   ]
  },
  {
   "source": [
    "# Theater of Operations. What can you conclude?\n",
    "print(aerial['Theater of Operations'].value_counts())\n",
    "plt.figure(figsize=(22,10))\n",
    "sns.countplot(aerial['Theater of Operations'])\n",
    "plt.show()"
   ],
   "cell_type": "code",
   "metadata": {},
   "execution_count": null,
   "outputs": []
  },
  {
   "cell_type": "code",
   "execution_count": null,
   "metadata": {},
   "outputs": [],
   "source": [
    "# Weather Station Locations. Using the weather_station_location data, fill in the longitude and latitude in the missing fields below. \n",
    "# What can you conclude about the weather_station_location?\n",
    "data = [dict(\n",
    "    type='scattergeo',\n",
    "    lon = \n",
    "    lat = \n",
    "    hoverinfo = 'text',\n",
    "    text = \"Name: \" + weather_station_location.NAME + \" Country: \" + weather_station_location[\"STATE/COUNTRY ID\"],\n",
    "    mode = 'markers',\n",
    "    marker=dict(\n",
    "        sizemode = 'area',\n",
    "        sizeref = 1,\n",
    "        size= 8 ,\n",
    "        line = dict(width=1,color = \"white\"),\n",
    "        color = \"blue\",\n",
    "        opacity = 0.7),\n",
    ")]\n",
    "layout = dict(\n",
    "    title = 'Weather Station Locations ',\n",
    "    hovermode='closest',\n",
    "    geo = dict(showframe=False, showland=True, showcoastlines=True, showcountries=True,\n",
    "               countrywidth=1, projection=dict(type='Mercator'),\n",
    "              landcolor = 'rgb(217, 217, 217)',\n",
    "              subunitwidth=1,\n",
    "              showlakes = True,\n",
    "              lakecolor = 'rgb(255, 255, 255)',\n",
    "              countrycolor=\"rgb(5, 5, 5)\")\n",
    ")\n",
    "fig = go.Figure(data=data, layout=layout)\n"
   ]
  },
  {
   "source": [
    "## Focus on USA and BURMA War\n",
    "\n",
    "* In this war USA bomb BURMA( KATHA city) from 1942 to 1945.\n",
    "* The closest weather station to this war is **BINDUKURI** and it has temperature record from 1943 to 1945.\n",
    "* Now lets visualize this situation. But before visualization, we need to make date features date time object."
   ],
   "cell_type": "markdown",
   "metadata": {}
  },
  {
   "cell_type": "code",
   "execution_count": null,
   "metadata": {},
   "outputs": [],
   "source": [
    "weather_station_id = weather_station_location[weather_station_location.NAME == \"BINDUKURI\"].WBAN "
   ]
  },
  {
   "source": [
    "Using the `weather_station_id`, create a new dataframe called `weather_bin` where <p> `weather.STA == weather_station_id`"
   ],
   "cell_type": "markdown",
   "metadata": {}
  },
  {
   "cell_type": "code",
   "execution_count": null,
   "metadata": {},
   "outputs": [],
   "source": [
    "# Complete the code below\n",
    "weather_bin = \n",
    "## Convert the date column to datetime object\n",
    "weather_bin[\"Date\"] = "
   ]
  },
  {
   "cell_type": "code",
   "execution_count": null,
   "metadata": {},
   "outputs": [],
   "source": [
    "# Now, let's visualise the mean temperature of the Bindukuri location\n",
    "plt.figure(figsize=(22,10))\n",
    "plt.plot(weather_bin.Date,weather_bin.MeanTemp)\n",
    "plt.title(\"Mean Temperature of Bindukuri Area\")\n",
    "plt.xlabel(\"Date\")\n",
    "plt.ylabel(\"Mean Temperature\")\n",
    "plt.show()"
   ]
  },
  {
   "source": [
    "* As you can see, we have temperature measurement from 1943 to 1945.\n",
    "* Temperature ossilates between 12 and 32 degrees.\n",
    "* Temperature of winter months is colder than temperature of summer months."
   ],
   "cell_type": "markdown",
   "metadata": {}
  },
  {
   "source": [
    "### Let's select USA from the attack country, and Burma as target, and City of target as Katha\n",
    "\n",
    "Reload the <u>operations</u> data as `aerial`"
   ],
   "cell_type": "markdown",
   "metadata": {}
  },
  {
   "cell_type": "code",
   "execution_count": null,
   "metadata": {},
   "outputs": [],
   "source": [
    "# Load the data here\n",
    "aerial = pd.read_csv(\"\")\n",
    "\n",
    "# Let's look at the data.\n",
    "aerial.head()"
   ]
  },
  {
   "source": [
    "Create a new column called year by getting the year of attack from the \"Mission Date\" column. Filter only after year 1943."
   ],
   "cell_type": "markdown",
   "metadata": {}
  },
  {
   "cell_type": "code",
   "execution_count": null,
   "metadata": {},
   "outputs": [],
   "source": [
    "aerial[\"year\"] = [ each.split(\"/\")[2] for each in aerial[\"Mission Date\"]]\n",
    "aerial[\"month\"] = [ each.split(\"/\")[0] for each in aerial[\"Mission Date\"]]\n",
    "aerial = aerial[aerial[\"year\"]>=\"1943\"]\n",
    "aerial = aerial[aerial[\"month\"]>=\"8\"]"
   ]
  },
  {
   "source": [
    "For each of the date of attack in `Mission Date`, get the MeanTemp of the city of that date from `weather_bin` dataframe. "
   ],
   "cell_type": "markdown",
   "metadata": {}
  },
  {
   "cell_type": "code",
   "execution_count": null,
   "metadata": {},
   "outputs": [],
   "source": [
    "# Create 2 vector, one for MeanTemp, one for Date of attack.\n",
    "meantemp_list = []\n",
    "date_of_attack = []\n",
    "\n",
    "# Now find date of attack, and meanTemp of that day\n",
    "for each in aerial_war[\"Mission Date\"]:\n",
    "    dummy = weather_bin[weather_bin.Date == each]\n",
    "    meantemp_list.append(dummy[\"MeanTemp\"].values)\n",
    "aerial_war[\"dene\"] = liste\n",
    "for each in aerial_war.dene.values:\n",
    "    date_of_attack.append(each[0])"
   ]
  },
  {
   "source": [
    "Visualise the Mean temperature on the day of the attacks.\n"
   ],
   "cell_type": "markdown",
   "metadata": {}
  },
  {
   "cell_type": "code",
   "execution_count": null,
   "metadata": {},
   "outputs": [],
   "source": [
    "# Create a trace\n",
    "trace = go.Scatter(\n",
    "    x = weather_bin.Date,\n",
    "    mode = \"lines\",\n",
    "    y = weather_bin.MeanTemp,\n",
    "    marker = dict(color = 'rgba(16, 112, 2, 0.8)'),\n",
    "    name = \"Mean Temperature\"\n",
    ")\n",
    "trace1 = go.Scatter(\n",
    "    x = aerial_war[\"Mission Date\"],\n",
    "    mode = \"markers\",\n",
    "    y = date_of_attack,\n",
    "    marker = dict(color = 'rgba(16, 0, 200, 1)'),\n",
    "    name = \"Bombing temperature\"\n",
    ")\n",
    "layout = dict(title = 'Mean Temperature --- Bombing Dates and Mean Temperature at this Date')\n",
    "data = [trace,trace1]"
   ]
  },
  {
   "source": [
    "* Green line is mean temperature that is measured in Bindukuri.\n",
    "* Blue markers are bombing dates and bombing date temperature.\n",
    "* As it can be seen from plot, USA bomb at high temperatures.\n",
    "    * The question is that can we predict future weather and according to this prediction can we know whether bombing will be done or not.\n",
    "    * In order to answer this question lets first start with time series prediction."
   ],
   "cell_type": "markdown",
   "metadata": {}
  }
 ]
}